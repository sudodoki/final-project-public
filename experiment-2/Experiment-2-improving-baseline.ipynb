{
 "cells": [
  {
   "cell_type": "markdown",
   "metadata": {},
   "source": [
    "_Carry overs from previous notebook_\n",
    "    \n",
    "## Issues\n",
    "\n",
    "1. Annotated data having issues:\n",
    "  - (Fixed by sorting chars) different annotators possibly having different order in pairs\n",
    "  - (Fixed by dropping NR chars / affinity) NR still present with some comments\n",
    "2. Book sources having issues:\n",
    "  - different editions of same book might be available with different level of changes (starting with additions / deletions ending with non-rendering font using Æ and others)\n",
    "  - licensing need to be removed as it introduces extra noise\n",
    "3. book-nlp output having issues:\n",
    "  - (Fixed by quote attr) as is, it causes issues when loaded via pandas as there're ocasionally a label for token that is too long or some other issues\n",
    "  - might result in same character being represented as multiple\n",
    "4. current algorithm having issues:\n",
    "  - no way to limit characters to only 'important once', so we can do some sort of validation but either external part should be responsible for selecting the main characters (and it's not yet fact those would be present in annotated relations) or current system updated to account for that\n",
    "  - sentiment of sentences mentioning two characters isn't the best way, some papers mention other ways of doing this\n",
    "\n",
    "## Next steps\n",
    "\n",
    "1. There are still long way to go with this amount of data and this baseline: tuning sentiment, removing stopwords, fixing all of the issues.\n",
    "2. I have another dataset that need some transforming to be compatible with current one\n",
    "3. Trying other baselines."
   ]
  },
  {
   "cell_type": "code",
   "execution_count": 171,
   "metadata": {},
   "outputs": [],
   "source": [
    "import os\n",
    "import re\n",
    "\n",
    "import pandas as pd\n",
    "import numpy as np\n",
    "import scipy\n",
    "import collections as col\n",
    "\n",
    "from sklearn import metrics\n",
    "from sklearn.base import TransformerMixin\n",
    "from sklearn.pipeline import Pipeline\n",
    "from sklearn.model_selection import train_test_split, cross_validate, cross_val_predict, GridSearchCV\n",
    "from sklearn.feature_extraction.text import CountVectorizer, TfidfVectorizer\n",
    "from sklearn.linear_model import LogisticRegression\n",
    "from sklearn.neighbors import KNeighborsClassifier\n",
    "\n",
    "from nltk.stem.snowball import SnowballStemmer\n",
    "\n",
    "from tqdm import tqdm\n",
    "\n",
    "import books_utils as bu\n",
    "import baseline\n",
    "\n"
   ]
  },
  {
   "cell_type": "code",
   "execution_count": 2,
   "metadata": {},
   "outputs": [],
   "source": [
    "stemmer = SnowballStemmer(\"english\")"
   ]
  },
  {
   "cell_type": "markdown",
   "metadata": {},
   "source": [
    "### Reading in annotations / books"
   ]
  },
  {
   "cell_type": "code",
   "execution_count": 3,
   "metadata": {},
   "outputs": [
    {
     "name": "stdout",
     "output_type": "stream",
     "text": [
      "(2137, 11)\n"
     ]
    },
    {
     "data": {
      "text/html": [
       "<div>\n",
       "<style scoped>\n",
       "    .dataframe tbody tr th:only-of-type {\n",
       "        vertical-align: middle;\n",
       "    }\n",
       "\n",
       "    .dataframe tbody tr th {\n",
       "        vertical-align: top;\n",
       "    }\n",
       "\n",
       "    .dataframe thead th {\n",
       "        text-align: right;\n",
       "    }\n",
       "</style>\n",
       "<table border=\"1\" class=\"dataframe\">\n",
       "  <thead>\n",
       "    <tr style=\"text-align: right;\">\n",
       "      <th></th>\n",
       "      <th>annotator</th>\n",
       "      <th>change</th>\n",
       "      <th>title</th>\n",
       "      <th>author</th>\n",
       "      <th>character_1</th>\n",
       "      <th>character_2</th>\n",
       "      <th>affinity</th>\n",
       "      <th>coarse_category</th>\n",
       "      <th>fine_category</th>\n",
       "      <th>detail</th>\n",
       "      <th>book_name</th>\n",
       "    </tr>\n",
       "  </thead>\n",
       "  <tbody>\n",
       "    <tr>\n",
       "      <th>count</th>\n",
       "      <td>2137</td>\n",
       "      <td>2137</td>\n",
       "      <td>2137</td>\n",
       "      <td>2137</td>\n",
       "      <td>2137</td>\n",
       "      <td>2137</td>\n",
       "      <td>2137</td>\n",
       "      <td>2137</td>\n",
       "      <td>2137</td>\n",
       "      <td>2137</td>\n",
       "      <td>2137</td>\n",
       "    </tr>\n",
       "    <tr>\n",
       "      <th>unique</th>\n",
       "      <td>14</td>\n",
       "      <td>3</td>\n",
       "      <td>109</td>\n",
       "      <td>49</td>\n",
       "      <td>1005</td>\n",
       "      <td>825</td>\n",
       "      <td>3</td>\n",
       "      <td>4</td>\n",
       "      <td>30</td>\n",
       "      <td>528</td>\n",
       "      <td>109</td>\n",
       "    </tr>\n",
       "    <tr>\n",
       "      <th>top</th>\n",
       "      <td>annotator_1</td>\n",
       "      <td>no</td>\n",
       "      <td>The Return of the Native</td>\n",
       "      <td>William Shakespeare</td>\n",
       "      <td>Joseph K.</td>\n",
       "      <td>Timon</td>\n",
       "      <td>positive</td>\n",
       "      <td>social</td>\n",
       "      <td>friend</td>\n",
       "      <td>NR</td>\n",
       "      <td>Dracula_Bram_Stoker</td>\n",
       "    </tr>\n",
       "    <tr>\n",
       "      <th>freq</th>\n",
       "      <td>760</td>\n",
       "      <td>1712</td>\n",
       "      <td>20</td>\n",
       "      <td>613</td>\n",
       "      <td>15</td>\n",
       "      <td>17</td>\n",
       "      <td>1120</td>\n",
       "      <td>886</td>\n",
       "      <td>342</td>\n",
       "      <td>1591</td>\n",
       "      <td>20</td>\n",
       "    </tr>\n",
       "  </tbody>\n",
       "</table>\n",
       "</div>"
      ],
      "text/plain": [
       "          annotator change                     title               author  \\\n",
       "count          2137   2137                      2137                 2137   \n",
       "unique           14      3                       109                   49   \n",
       "top     annotator_1     no  The Return of the Native  William Shakespeare   \n",
       "freq            760   1712                        20                  613   \n",
       "\n",
       "       character_1 character_2  affinity coarse_category fine_category detail  \\\n",
       "count         2137        2137      2137            2137          2137   2137   \n",
       "unique        1005         825         3               4            30    528   \n",
       "top      Joseph K.       Timon  positive          social        friend     NR   \n",
       "freq            15          17      1120             886           342   1591   \n",
       "\n",
       "                  book_name  \n",
       "count                  2137  \n",
       "unique                  109  \n",
       "top     Dracula_Bram_Stoker  \n",
       "freq                     20  "
      ]
     },
     "execution_count": 3,
     "metadata": {},
     "output_type": "execute_result"
    }
   ],
   "source": [
    "annotations = pd.read_csv('../data/character_relation_annotations.txt.gz', sep='\\t')\n",
    "# dropping values that have gibberish affinity - might transform this later based on category\n",
    "annotations = annotations[(annotations['affinity'] != 'NR') & (annotations['character_1'] != 'NR') & (annotations['character_2'] != 'NR')].copy()\n",
    "annotations['book_name'] = (annotations['title'] + ' ' + annotations['author']).str.replace(\"\\s\", \"_\")\n",
    "print(annotations.shape)\n",
    "# making sure no NR in character_1/character_2/affinity\n",
    "annotations.describe()"
   ]
  },
  {
   "cell_type": "code",
   "execution_count": 4,
   "metadata": {},
   "outputs": [],
   "source": [
    "# annotations[annotations['title'] == 'Oliver Twist']"
   ]
  },
  {
   "cell_type": "code",
   "execution_count": 5,
   "metadata": {},
   "outputs": [],
   "source": [
    "# working around multiple annotators giving different marks - transforming into\n",
    "# real value based on mapping and averaging it\n",
    "def avg(numbers):\n",
    "    return float(sum(numbers)) / max(len(numbers), 1)\n",
    "affinity_mapping = {\n",
    "    'positive': 1,\n",
    "    'neutral': 0.5,\n",
    "    'negative': 0\n",
    "}\n",
    "annotations['num_affinity'] = annotations['affinity'].map(lambda aff: affinity_mapping[aff])\n",
    "all_df = pd.DataFrame(columns=['book_name', 'char_1', 'char_2', 'affinity'])\n",
    "by_book_annotations = col.defaultdict(col.defaultdict)\n",
    "def add_books_annotations(row):\n",
    "    book_name = row['book_name']\n",
    "    char_1, char_2 = sorted([row['character_1'], row['character_2']])\n",
    "    affinity = row['num_affinity']\n",
    "    by_book_annotations[book_name][char_1 + ':' + char_2] = (by_book_annotations[book_name][char_1 + ':' + char_2] if (char_1 + ':' + char_2) in by_book_annotations[book_name] else []) + [affinity]\n",
    "\n",
    "annotations.apply(add_books_annotations, axis=1)\n",
    "\n",
    "for book in by_book_annotations:\n",
    "    for pair in by_book_annotations[book]:\n",
    "        [char_1, char_2] = pair.split(':')\n",
    "        all_df = all_df.append([{\n",
    "            'book_name': book, 'char_1': char_1, 'char_2': char_2, 'affinity': avg(by_book_annotations[book][pair])\n",
    "        }])\n",
    "# voila, afinnity as single column dataframe with real values and all_x having book_name, char_1 and char_2 names\n",
    "all_y = all_df['affinity'].copy()\n",
    "all_X = all_df.drop('affinity', axis=1)"
   ]
  },
  {
   "cell_type": "code",
   "execution_count": 6,
   "metadata": {},
   "outputs": [
    {
     "data": {
      "text/plain": [
       "(109, 109, True)"
      ]
     },
     "execution_count": 6,
     "metadata": {},
     "output_type": "execute_result"
    }
   ],
   "source": [
    "# making sure all raw txt files are present for books\n",
    "titles = annotations['title'].unique()\n",
    "authors = [annotations[annotations['title'] == title]['author'][0:1].ravel()[0] for title in titles]\n",
    "existing_files = []\n",
    "names = []\n",
    "for pair in zip(titles, authors):\n",
    "    title, author = pair\n",
    "    name = re.sub(\"\\s\", \"_\", '{} {}'.format(title, author))\n",
    "    names.append(name)\n",
    "    file = '../data/books/{}.txt'.format(name)\n",
    "    existing_files.append(os.path.isfile(file))\n",
    "len(titles), len(existing_files), all(existing_files)"
   ]
  },
  {
   "cell_type": "code",
   "execution_count": 7,
   "metadata": {},
   "outputs": [],
   "source": [
    "books = [bu.Book(name, book_NLP_folder=\"../data/bookNLP_output\", source_folder=\"../data/books\") for name in names]"
   ]
  },
  {
   "cell_type": "code",
   "execution_count": 8,
   "metadata": {},
   "outputs": [],
   "source": [
    "for book in books:\n",
    "    if len(book.tokens) < 100:\n",
    "        print(book.name, len(book.tokens), book.tokens.shape)\n",
    "# seems that most tokens are non-empty, yet issue with parsing the bookNLP token output into dataframes\n",
    "# underneath we are skipping those lines"
   ]
  },
  {
   "cell_type": "code",
   "execution_count": 32,
   "metadata": {},
   "outputs": [],
   "source": [
    "def score_to_label(val):\n",
    "    if val <= 0.33:\n",
    "        return 'negative'\n",
    "    if val <= 0.66:\n",
    "        return 'neutral'\n",
    "    return 'positive'"
   ]
  },
  {
   "cell_type": "markdown",
   "metadata": {},
   "source": [
    "### Reproducing baseline results"
   ]
  },
  {
   "cell_type": "code",
   "execution_count": null,
   "metadata": {},
   "outputs": [],
   "source": [
    "base_predictor = baseline.create_for(books, all_X)"
   ]
  },
  {
   "cell_type": "code",
   "execution_count": null,
   "metadata": {},
   "outputs": [],
   "source": [
    "y_predicted = baseline.predict(base_predictor, all_X)\n",
    "y_predicted.clip(0, 1, inplace=True)"
   ]
  },
  {
   "cell_type": "code",
   "execution_count": null,
   "metadata": {},
   "outputs": [],
   "source": [
    "metrics.mean_squared_error(y_predicted, all_y)"
   ]
  },
  {
   "cell_type": "code",
   "execution_count": null,
   "metadata": {},
   "outputs": [],
   "source": [
    "print(metrics.classification_report(all_y.map(score_to_label), y_predicted.map(score_to_label)))"
   ]
  },
  {
   "cell_type": "code",
   "execution_count": null,
   "metadata": {},
   "outputs": [],
   "source": [
    "# one more baseline, just to check - major class\n",
    "y_all_positive = np.ones_like(y_predicted)\n",
    "print(metrics.mean_squared_error(y_all_positive, all_y))\n",
    "print(metrics.classification_report(all_y.map(score_to_label), [score_to_label(val) for val in y_all_positive]))\n",
    "# well, at least our baseline does something more useful"
   ]
  },
  {
   "cell_type": "code",
   "execution_count": null,
   "metadata": {},
   "outputs": [],
   "source": [
    "# Books issues with chars\n",
    "# WARNING: Mrs. John Dashwood might have multiple aliases: ['Mrs. Dashwood', 'John Dashwood']\n",
    "# WARNING: Hector son of Priam might have multiple aliases: ['Hector', 'Priam']\n",
    "# WARNING: Mrs. Joe Gargery might have multiple aliases: ['Joe Gargery', 'Mrs. Joe']\n",
    "# WARNING: Mrs. Ned Hale might have multiple aliases: ['Mrs. Ned Hale', 'Ned Hale']\n",
    "# WARNING: Elizabeth-Jane Newson might have multiple aliases: ['Elizabeth-Jane Newson', 'Newson']"
   ]
  },
  {
   "cell_type": "code",
   "execution_count": null,
   "metadata": {},
   "outputs": [],
   "source": [
    "bad_chars = set([\"Mrs. John Dashwood\",\n",
    "\"Hector son of Priam\",\n",
    "\"Mrs. Joe Gargery\",\n",
    "\"Mrs. Joe Gargery\",\n",
    "\"Mrs. Ned Hale\",\n",
    "\"Elizabeth-Jane Newson\"])\n",
    "for (i,book) in enumerate(books):\n",
    "    for char in book.characters.meaningful:\n",
    "        if bu.longest_name(char) in bad_chars:\n",
    "            print(i, book.name, char['id'], bu.longest_name(char))"
   ]
  },
  {
   "cell_type": "markdown",
   "metadata": {},
   "source": [
    "Even though I identified these chars, I'm not sure what to do with all of this:\n",
    "\n",
    "1. Mrs. John Dashwood as identificator for wife of Mr. John Dashwood\n",
    "2. son of Priam mentioning Priam in no way refers to Priam himself\n",
    "3. Mrs. Joe Gargery as identificator for wife of Mr. Joe Gargery\n",
    "4. Not even sure about this one, but I think once again this is identificator for wife of Mr. Ned Hale\\\n",
    "5. Newson is used as reference to father of Elizabeth-Jane Newson\n",
    "\n",
    "so I'm considering adding following rules to bu.book_name_to_annotated_name()\n",
    "\n",
    "```\n",
    "Mrs. + Name != Name\n",
    "X son of Y != Y\n",
    "Firstname Lastname != Lastname\n",
    "```\n",
    "\n",
    "although first one could have another way of working out if we would have gender annotation for characters in dataset (given bookNLP infers gender), yet there are issues with bookNLP getting confused on its own with Mrs. John Dashwood (considering John Dashwood being same character and not Mr. John Dashwood who is character on his own)\n",
    "\n",
    "🤔 might be an issue for the future"
   ]
  },
  {
   "cell_type": "markdown",
   "metadata": {},
   "source": [
    "### Further work: affinity prediction"
   ]
  },
  {
   "cell_type": "code",
   "execution_count": 9,
   "metadata": {},
   "outputs": [
    {
     "name": "stdout",
     "output_type": "stream",
     "text": [
      "0 Don_Quixote_Miguel_de_Cervantes Don Quixote ['Don Quixotes', 'Senor Don Quixote', 'lord Don Quixote']\n",
      "0 Don_Quixote_Miguel_de_Cervantes The Duke and Duchess ['Duke of Sesa', 'Duke Ricardo']\n",
      "0 Don_Quixote_Miguel_de_Cervantes Sancho Panza ['Sancho Panzas', 'Senor Don Sancho Panza']\n",
      "1 Little_Women_Louisa_May_Alcott Frederick Bhaer ['Mother Bhaer', 'Fred Vaughn']\n",
      "1 Little_Women_Louisa_May_Alcott Josephine March ['Miss Jo', 'Josephine']\n",
      "1 Little_Women_Louisa_May_Alcott Mr. Brooke ['Mrs. John Brooke', 'Mr. Brooke']\n",
      "1 Little_Women_Louisa_May_Alcott Sallie Gardiner ['Miss Sallie', 'Sallie Gardiner']\n",
      "2 Antony_and_Cleopatra_William_Shakespeare Octavius Caesar ['Octavius Caesar', 'Julius Caesar']\n",
      "2 Antony_and_Cleopatra_William_Shakespeare Antony ['MARK ANTONY', 'Antony Shall', 'An Antony']\n",
      "WARNING: Mrs. John Dashwood might have multiple aliases: ['John Dashwood', 'Mrs. Dashwood']\n",
      "3 Sense_and_Sensibility_Jane_Austen John Dashwood ['Mrs. John Dashwood', 'Mr. John Dashwood']\n",
      "3 Sense_and_Sensibility_Jane_Austen Sir John Middleton ['John Middleton', 'Lady Middleton']\n",
      "4 Henry_VIII_William_Shakespeare Cardinal Wolsey ['Lord Cardinal', 'Wolsey']\n",
      "4 Henry_VIII_William_Shakespeare King Henry VIII ['Henry Guildford', 'Henry King']\n",
      "5 Richard_II_William_Shakespeare Henry Percy Earl of Northumberland; Lord Ross; and Lord Willoughby ['Lo', 'Willoughby', 'Harry Percy', 'Ross']\n",
      "5 Richard_II_William_Shakespeare John of Gaunt Duke of Lancaster ['John of Gaunt', 'Lancaster']\n",
      "5 Richard_II_William_Shakespeare The Duke of Aumerle ['Duke of Hereford', 'Lord Aumerle']\n",
      "6 Lord_Jim_Joseph_Conrad Jim ['Lord Jim', 'Tuan Jim', 'Jimmy']\n",
      "7 The_Count_of_Monte_Cristo_Alexandre_Dumas Baron Danglars ['Baron Danglars', 'M. Danglars']\n",
      "7 The_Count_of_Monte_Cristo_Alexandre_Dumas Monsieur Morrel ['M. Maximilian Morrel', 'Monsieur Baptistin', 'Monsieur Morrel', 'Monsieur de Morcerf']\n",
      "7 The_Count_of_Monte_Cristo_Alexandre_Dumas Caderousse ['M. Caderousse', 'Gaspard Caderousse']\n",
      "8 The_House_of_the_Seven_Gables_Nathaniel_Hawthorne Phoebe Pyncheon ['Miss Phoebe Pyncheon', 'Cousin Phoebe']\n",
      "8 The_House_of_the_Seven_Gables_Nathaniel_Hawthorne Old Jaffrey Pyncheon ['Cousin Jaffrey', 'Jaffrey Pyncheon']\n",
      "9 Typee_Herman_Melville Tommo ['Tom', 'Tommo']\n",
      "11 The_Three_Musketeers_Alexandre_Dumas Athos ['Messieurs Athos', 'Monsieur Athos']\n",
      "11 The_Three_Musketeers_Alexandre_Dumas Monsieur de Treville ['M. de Treville', 'Monsieur de Treville']\n",
      "11 The_Three_Musketeers_Alexandre_Dumas Madame de Coquenard ['Madame Coquenard', 'Monsieur Coquenard']\n",
      "12 Emma_Jane_Austen Mr. Robert Martin ['Mr. Robert Martin', '-- Robert Martin']\n",
      "12 Emma_Jane_Austen Frank Churchill ['-- Frank Churchill', 'Mr. Frank Churchill']\n",
      "12 Emma_Jane_Austen Isabella Knightley ['Mr. John Knightley', '-- Isabella']\n",
      "13 Persuasion_Jane_Austen Captain Frederick Wentworth ['Mr Wentworth', 'Frederick Wentworth']\n",
      "14 Oliver_Twist_Charles_Dickens Bill Sikes ['MR. WILLIAM SIKES', 'Bill Sikes']\n",
      "14 Oliver_Twist_Charles_Dickens Rose Maylie ['Rose Maylie', 'Miss Rose']\n",
      "15 The_Adventures_of_Tom_Sawyer_Mark_Twain Huckleberry Finn ['Huck Finn', 'Huckleberry Finn']\n",
      "17 Troilus_and_Cressida_William_Shakespeare Diomedes ['Diomedes', 'Diomed']\n",
      "17 Troilus_and_Cressida_William_Shakespeare Helen ['HELEN', 'Helenus']\n",
      "17 Troilus_and_Cressida_William_Shakespeare Cressida ['lady Cressid', 'Lady Cressida']\n",
      "18 Hard_Times_Charles_Dickens Josiah Bounderby ['MR. BOUNDERBY', 'Josiah Bounderby']\n",
      "20 Uncle_Tom&rsquo;s_Cabin_Harriet_Beecher_Stowe Eva ['Miss Eva', 'Evangeline']\n",
      "20 Uncle_Tom&rsquo;s_Cabin_Harriet_Beecher_Stowe Emily Shelby ['Mr. Shelby', 'Emily']\n",
      "21 Silas_Marner_George_Eliot Godfrey Cass ['Mrs. Godfrey Cass', 'Mr. Godfrey Cass']\n",
      "21 Silas_Marner_George_Eliot Dolly Winthrop ['Ben Winthrop', 'Dolly Winthrop']\n",
      "22 King_John_William_Shakespeare Philip ['KING PHILIP', '-- Philip']\n",
      "23 The_American_Henry_James Valentin de Bellegarde (the young Comte de Bellegarde) ['Valentin de Bellegarde', 'Mr. Valentin', 'M. de Bellegarde']\n",
      "23 The_American_Henry_James Tom Tristram ['Tom Tristram', 'Mrs. Tristram', 'Mr. Tristram']\n",
      "23 The_American_Henry_James Christopher Newman ['Christopher Newman', 'Mr. Newman']\n",
      "25 Swann's_Way_Marcel_Proust Verdurins ['M. Verdurin', 'Verdurins']\n",
      "25 Swann's_Way_Marcel_Proust Charles Swann ['Charles', 'M. Swann']\n",
      "25 Swann's_Way_Marcel_Proust Gilberte ['Gilbert', 'Gilberte Swann']\n",
      "26 Anna_Karenina_Leo_Tolstoy Sergei Alexeich Karenin (Seryozha) ['Alexey Alexandrovitch Karenin', 'Seryozha']\n",
      "26 Anna_Karenina_Leo_Tolstoy Stepan Arkadyich Oblonsky (Stiva) ['Stiva', 'Pyotr Oblonsky']\n",
      "26 Anna_Karenina_Leo_Tolstoy Ekaterina Alexandrovna Shcherbatskaya (Kitty) ['Kitty Shtcherbatskaya', 'Ekaterina']\n",
      "26 Anna_Karenina_Leo_Tolstoy Anna Arkadyevna Karenina ['Madame Karenina', 'Anna Arkadyevna']\n",
      "26 Anna_Karenina_Leo_Tolstoy Alexei Kirillovich Vronsky ['Kirillov', 'Alexey Vronsky']\n",
      "26 Anna_Karenina_Leo_Tolstoy Darya Alexandrovna Oblonskaya (Dolly) ['Oblonskaya', 'Dolly', 'Darya Alexandrovna']\n",
      "28 Henry_IV_Part_2_William_Shakespeare Mowbray and Hastings ['LORD MOWBRAY', 'LORD HASTINGS']\n",
      "30 Henry_VI_Part_3_William_Shakespeare Edward ['Edwards', 'Sonne Edward', 'Edward King']\n",
      "30 Henry_VI_Part_3_William_Shakespeare Warwick ['Warwicke', 'Warw', 'Lord Warwick']\n",
      "30 Henry_VI_Part_3_William_Shakespeare Clifford ['Lord Clifford', 'Clif']\n",
      "30 Henry_VI_Part_3_William_Shakespeare Prince Edward ['Prin', 'Ed', 'Prince Edward']\n",
      "30 Henry_VI_Part_3_William_Shakespeare Richard ['Richard', 'Rich']\n",
      "30 Henry_VI_Part_3_William_Shakespeare Margaret ['Queene Margaret', 'Marg']\n",
      "31 Ulysses_James_Joyce Malachi (Buck) Mulligan ['Mr Malachi Mulligan', 'BUCK MULLIGAN']\n",
      "31 Ulysses_James_Joyce Josie (née Powell) and Denis Breen ['Denis Breen', 'Mrs Breen', 'Josie Powell']\n",
      "31 Ulysses_James_Joyce Cissy ['Ciss', 'CISSY CAFFREY']\n",
      "31 Ulysses_James_Joyce Leopold Bloom ['Leo', 'Mr Leopold Bloom']\n",
      "31 Ulysses_James_Joyce Marion (Molly) Bloom ['Mrs Marion Bloom', 'Molly', 'Mario']\n",
      "31 Ulysses_James_Joyce Haines ['MR HAINES', '-- Haines']\n",
      "31 Ulysses_James_Joyce Hugh (“Blazes”) Boylan ['Hugh C. Love', 'Blazes Boylan']\n",
      "WARNING: Hector son of Priam might have multiple aliases: ['Priam', 'Hector']\n",
      "32 The_Iliad_Homer Helen ['Helenus', 'Argive Helen']\n",
      "34 The_Merchant_of_Venice_William_Shakespeare Antonio ['Signior Antonio', 'O my Antonio']\n",
      "35 Adam_Bede_George_Eliot Captain Arthur Donnithorne ['Mr. Arthur Donnithorne', 'Squire Donnithorne']\n",
      "35 Adam_Bede_George_Eliot Rachel Poyser ['Rachel', 'Mrs. Poyser']\n",
      "36 Romeo_and_Juliet_William_Shakespeare Capulet ['Capulets', 'V. Capulet', 'Lady Capulet']\n",
      "36 Romeo_and_Juliet_William_Shakespeare Benvolio ['Ben', 'Benvolio']\n",
      "36 Romeo_and_Juliet_William_Shakespeare Montague ['Montague', 'Montagues']\n",
      "37 O_Pioneers!_Willa_Cather Marie Shabata ['Marie Shabata', 'Marie Tovesky']\n",
      "38 Narrative_of_the_Life_of_Frederick_Douglass_Frederick_Douglass William Lloyd Garrison ['Lloyd', 'Mr. William Hamilton']\n",
      "38 Narrative_of_the_Life_of_Frederick_Douglass_Frederick_Douglass Harriet Bailey ['Frederick Augustus Washington Bailey', 'Henry Bailey']\n",
      "39 Bleak_House_Charles_Dickens Sir Leicester Dedlock ['Leicester Dedlock', 'Sir Leicester']\n",
      "39 Bleak_House_Charles_Dickens Mr. John Jarndyce ['Mr. Jarndyce', 'Jo', 'John Jarndyce']\n",
      "39 Bleak_House_Charles_Dickens Mr. Matthew Bagnet ['Mr. Matthew Bagnet', 'Ma']\n",
      "40 Henry_VI_Part_2_William_Shakespeare Henry ['Henry King', 'Henry the Sixt']\n",
      "40 Henry_VI_Part_2_William_Shakespeare York ['Manet Yorke', 'York']\n",
      "40 Henry_VI_Part_2_William_Shakespeare Suffolk ['Suff', 'Lord Suffolke', 'Duke of Suffolke']\n",
      "41 Madame_Bovary_Gustave_Flaubert Rouault ['Monsieur Rouault', 'Mademoiselle Rouault']\n",
      "42 War_and_Peace_Leo_Tolstoy Helene Kuragina ['Countess Helene', 'Vasili Kuragin', 'Kuragina']\n",
      "42 War_and_Peace_Leo_Tolstoy Prince Bolkonski ['Prince Andrew', 'Prince Anatole', 'Prince Bolkonski', 'Prince Vasili']\n",
      "42 War_and_Peace_Leo_Tolstoy Julie Karagina ['Julie Karagina', 'Julie Drubetskaya']\n",
      "42 War_and_Peace_Leo_Tolstoy Countess Natalya Rostova ['Nataly', 'Count Bennigsen']\n",
      "42 War_and_Peace_Leo_Tolstoy Nicholas Rostov ['Nicholas Rostov', 'Prince Nicholas']\n",
      "43 Middlemarch_George_Eliot Tertius Lydgate ['Mr. Lydgate', 'Tertius']\n",
      "43 Middlemarch_George_Eliot Will Ladislaw ['Mr. Ladislaw', 'Will Ladislaw']\n",
      "43 Middlemarch_George_Eliot Edward Casaubon ['MR. CASAUBON', 'EDWARD CASAUBON']\n",
      "43 Middlemarch_George_Eliot Fred Vincy ['Mr. Fred', 'Fred Vincy']\n",
      "43 Middlemarch_George_Eliot Arthur Brooke ['Arthur', 'MISS BROOKE']\n",
      "43 Middlemarch_George_Eliot Nicholas Bulstrode ['Nicholas Bulstrode', 'Mr. Bulstrode']\n",
      "44 Pride_and_Prejudice_Jane_Austen Georgiana Darcy ['Mr. Darcy', 'Georgiana']\n",
      "44 Pride_and_Prejudice_Jane_Austen George Wickham ['George Wickham', 'Mr. Wickham']\n",
      "44 Pride_and_Prejudice_Jane_Austen Elizabeth Bennet ['Miss Eliza Bennet', 'Miss Elizabeth Bennet']\n",
      "44 Pride_and_Prejudice_Jane_Austen Charlotte Lucas ['Lady Lucas', 'Charlotte Lucas']\n",
      "44 Pride_and_Prejudice_Jane_Austen Mr. and Mrs. Gardiner ['Mrs. Gardiner', 'Mr. Gardiner']\n",
      "44 Pride_and_Prejudice_Jane_Austen Miss Bingley ['Miss Bingley', 'Mr. Bingley']\n",
      "46 The_Jungle_Upton_Sinclair Antanas Rudkus ['Antanas Rudkus', 'Dede Antanas']\n",
      "47 Henry_VI_Part_1_William_Shakespeare King Henry VI ['Henry the Fifth', 'King']\n",
      "47 Henry_VI_Part_1_William_Shakespeare Talbot ['LORD TALBOT', 'JOHN TALBOT']\n",
      "48 Anne_of_Green_Gables_L._M._Montgomery Gilbert Blythe ['Gilbert Blythe', 'Gil']\n",
      "49 A_Midsummer_Night&rsquo;s_Dream_William_Shakespeare Helena ['Helena', 'Helen']\n",
      "51 William_Shakespeare_Henry_IV_Part_1 Prince Harry ['Harry Percy', 'Prince of Wales']\n",
      "51 William_Shakespeare_Henry_IV_Part_1 Sir John Falstaff ['Jack Falstaff', 'John Falstaff']\n",
      "51 William_Shakespeare_Henry_IV_Part_1 King Henry IV ['King', 'Henry IV']\n",
      "WARNING: Le Bret et Ragueneau might have multiple aliases: ['Le Bret', 'Ragueneau']\n",
      "53 Spanish_Tragedy_Thomas_Kyd Isabella ['Isabella', 'ISABELL']\n",
      "53 Spanish_Tragedy_Thomas_Kyd Horatio ['Signior Horatio', 'DON HORATIO']\n",
      "53 Spanish_Tragedy_Thomas_Kyd Balthazar ['Don Balthazar', 'Prince Balthazar']\n",
      "WARNING: Mrs. Joe Gargery might have multiple aliases: ['Joe Gargery', 'Mrs. Joe']\n",
      "55 Great_Expectations_Charles_Dickens Uncle Pumblechook ['Mr. Pumblechook', 'Uncle Pumblechook']\n",
      "55 Great_Expectations_Charles_Dickens Wemmick ['Mrs. Wemmick', 'Mr. Wemmick']\n",
      "55 Great_Expectations_Charles_Dickens Jaggers ['MR. JAGGERS', 'Mr Jaggers']\n",
      "55 Great_Expectations_Charles_Dickens Bentley Drummle ['Mrs. Bentley Drummle', 'Mr. Drummle']\n",
      "56 Henry_V_William_Shakespeare and Grey Three conspirators against King Henry. ['Henry Lord Scroop', 'King']\n",
      "56 Henry_V_William_Shakespeare The King of France Charles VI. ['Charles Delabreth', 'Charles the Great']\n",
      "58 As_You_Like_It_William_Shakespeare Rosalind ['Rosalinde', 'Rosalind']\n",
      "59 Dr._Jekyll_and_Mr._Hyde_Robert_Louis_Stevenson Mr. Edward Hyde ['Mr. Hyde', 'Edward Hyde']\n",
      "60 Dracula_Bram_Stoker Arthur Holmwood ['Arthur Holmwood', 'Art']\n",
      "60 Dracula_Bram_Stoker Van Helsing ['Dr. Van Helsing', 'ABRAHAM VAN HELSING']\n",
      "61 The_House_of_Mirth_Edith_Wharton Jack Stepney and Gwen Stepney ['Gwen Van Osburgh', 'Mrs. Jack Stepney', 'Gwen Stepney']\n",
      "61 The_House_of_Mirth_Edith_Wharton Judy Trenor ['Mrs. Trenor', 'Judy Trenor']\n",
      "61 The_House_of_Mirth_Edith_Wharton Carry Fisher ['Carry Fisher', 'Mrs. Fisher']\n",
      "63 Howards_End_E._M._Forster Paul Wilcox ['Mr. Wilcox', 'St. Paul', 'Paul Wilcox', 'Mrs. Warrington Wilcox']\n",
      "63 Howards_End_E._M._Forster Margaret Schlegel ['MISS SCHLEGEL', 'Margaret']\n",
      "64 A_Doll&rsquo;s_House_Henrik_Ibsen Krogstad ['Nils Krogstad', 'Mr. Krogstad']\n",
      "66 Hedda_Gabler_Henrik_Ibsen Jürgen Tesman ['MISS JULIANA TESMAN', 'Dr. Tesman']\n",
      "68 Ghosts_Henrik_Ibsen Regina Engstrand ['REGINA', 'Jacob Engstrand']\n",
      "68 Ghosts_Henrik_Ibsen Oswald Alving ['MRS. ALVING', 'MRS ALVING', 'OSWALD ALVING']\n",
      "69 Far_from_the_Madding_Crowd_Thomas_Hardy Cainy Ball ['Cainy Ball', 'Cain Ball']\n",
      "69 Far_from_the_Madding_Crowd_Thomas_Hardy William Boldwood ['William Smallbury', 'Mr. Boldwood']\n",
      "69 Far_from_the_Madding_Crowd_Thomas_Hardy Sergeant Francis (Frank) Troy ['Frank', 'FRANCIS TROY']\n",
      "69 Far_from_the_Madding_Crowd_Thomas_Hardy Joseph Poorgrass ['Joseph Poor', 'Joseph Poorgrass']\n",
      "WARNING: Mrs. Ned Hale might have multiple aliases: ['Ned Hale', 'Mrs. Ned Hale']\n",
      "70 Ethan_Frome_Edith_Wharton Mattie Silver ['Mattie Silver', 'Matt']\n",
      "72 King_Lear_William_Shakespeare Regan ['O Regan', 'Reg']\n",
      "73 Sister_Carrie_Theodore_Dreiser Mrs. Vance ['Mr. Vance', 'Mrs. Vance']\n",
      "73 Sister_Carrie_Theodore_Dreiser Fitzgerald and Moy ['Fitzgerald', 'Moy']\n",
      "73 Sister_Carrie_Theodore_Dreiser Hanson ['Hansons', 'Hanson']\n",
      "73 Sister_Carrie_Theodore_Dreiser Charlie Drouet ['Mrs. Drouet', 'Charlie']\n",
      "73 Sister_Carrie_Theodore_Dreiser Julia Hurstwood ['Mrs. Julia Hurstwood', 'Mr. Hurstwood']\n"
     ]
    },
    {
     "name": "stdout",
     "output_type": "stream",
     "text": [
      "74 Northanger_Abbey_Jane_Austen Henry Tilney ['Mr. Henry Tilney', 'Miss Tilney']\n",
      "75 Julius_Caesar_William_Shakespeare Cassius ['Caie Cassi', 'Cass']\n",
      "75 Julius_Caesar_William_Shakespeare Decius ['Deci', 'Decius Brutus']\n",
      "75 Julius_Caesar_William_Shakespeare Octavius ['Octavi', 'OCTAVIUS']\n",
      "77 The_Taming_of_the_Shrew_William_Shakespeare Baptista ['Signior Baptista', 'BAPTISTA MINOLA']\n",
      "77 The_Taming_of_the_Shrew_William_Shakespeare Gremio and Hortensio ['Signior Hortensio', 'Signior Gremio']\n",
      "80 Mansfield_Park_Jane_Austen Mary Crawford ['Miss Crawford', 'Mary Crawford', 'Mrs. Crawford']\n",
      "80 Mansfield_Park_Jane_Austen Maria Bertram ['Maria Bertram', 'Miss Maria']\n",
      "82 Major_Barbara_George_Bernard_Shaw Lady Britomart Undershaft ['Lady Brit', 'Lady Britomart']\n",
      "84 Main_Street_Sinclair_Lewis Vida Sherwin ['Vida Sherwins', 'Miss Vida Sherwin']\n",
      "84 Main_Street_Sinclair_Lewis Raymond Wutherspoon ['Ray', 'Raymie Wutherspoon', 'Raymond Wutherspoon']\n",
      "84 Main_Street_Sinclair_Lewis Maud Dyer ['Mrs. Dave Dyer', 'Maud Dyer', 'Ma Dawson']\n",
      "84 Main_Street_Sinclair_Lewis Aunt Bessie and Uncle Whittier Smail ['Uncle Whittier', 'Aunt Bessie', 'Uncle Whit']\n",
      "84 Main_Street_Sinclair_Lewis Kennicott ['Kennicotts', 'Dr. Will Kennicott', 'Carol Kennicott', 'Doc Kennicott', 'Mrs. Will Kennicott']\n",
      "86 Jude_the_Obscure_Thomas_Hardy Richard Phillotson ['Mr. Phillotson', 'Mrs. Richard Phillotson']\n",
      "87 Kidnapped_Robert_Louis_Stevenson Mr. Campbell ['COLIN CAMPBELL', 'Mr. Campbell']\n",
      "87 Kidnapped_Robert_Louis_Stevenson James of the Glens ['JAMES STEWART', 'James of the Glens']\n",
      "88 Measure_for_Measure_William_Shakespeare Isabella ['Isabella', 'Isabel']\n",
      "89 Titus_Andronicus_William_Shakespeare Chiron and Demetrius ['Demetrius', 'Chiron']\n",
      "92 The_Trial_Franz_Kafka Joseph K. ['Mr. K.', 'Josef K.']\n",
      "95 A_Tale_of_Two_Cities_Charles_Dickens Sydney Carton ['Sydney Carton', 'Mr. Carton']\n",
      "95 A_Tale_of_Two_Cities_Charles_Dickens Monsieur Defarge ['Monsieur the Marquis', 'Monsieur Defarge']\n",
      "95 A_Tale_of_Two_Cities_Charles_Dickens Lucie Manette ['Miss Manette', 'Lucie Manette', 'Miss Lucie']\n",
      "96 The_Tempest_William_Shakespeare Trinculo & Stephano ['Trinculo', 'Stephano']\n",
      "97 The_Scarlet_Letter_Nathaniel_Hawthorne Reverend Mr. John Wilson ['John Wilson', 'Mr. Wilson']\n",
      "97 The_Scarlet_Letter_Nathaniel_Hawthorne Reverend Arthur Dimmesdale ['Arthur Dimmesdale', 'Mr. Dimmesdale']\n",
      "98 Maggie:_A_Girl_of_the_Streets_Stephen_Crane Nellie ['Nell', 'Nellie']\n",
      "98 Maggie:_A_Girl_of_the_Streets_Stephen_Crane Jimmie ['Jimmie', 'Jim']\n",
      "99 The_Two_Gentlemen_of_Verona_William_Shakespeare Silvia ['Madam Silvia', 'lady Silvia']\n",
      "WARNING: Elizabeth-Jane Newson might have multiple aliases: ['Newson', 'Elizabeth-Jane Newson']\n",
      "102 The_Mayor_of_Casterbridge_Thomas_Hardy Newson ['Mrs. Henchard-Newson', 'Richard Newson', 'Mrs. Newson', 'Miss Newson', 'Elizabeth-Jane Newson']\n",
      "102 The_Mayor_of_Casterbridge_Thomas_Hardy Joshua Jopp ['Jopp', 'Joshua']\n",
      "102 The_Mayor_of_Casterbridge_Thomas_Hardy Lucetta Templeman ['LUCETTA', 'Miss Templeman']\n",
      "103 Love's_Labours_Lost_William_Shakespeare Berowne ['Monsieur Berowne', 'Lord Berowne']\n",
      "104 Much_Ado_About_Nothing_William_Shakespeare Claudio ['Claud', 'Claudio']\n",
      "104 Much_Ado_About_Nothing_William_Shakespeare Benedick ['Bene', 'Signior Benedick']\n",
      "104 Much_Ado_About_Nothing_William_Shakespeare Leonato ['Leon', 'Signior Leonato']\n",
      "106 Treasure_Island_Robert_Louis_Stevenson Squire Trelawney ['Squire', 'Mr. Trelawney']\n",
      "106 Treasure_Island_Robert_Louis_Stevenson Billy Bones ['Bill', 'Billy Bones']\n",
      "107 Siddhartha_Hermann_Hesse Siddhartha ['Samana Siddhartha', 'Siddhartha bei den Samanas', 'Siddharthas Seele']\n",
      "108 The_Return_of_the_Native_Thomas_Hardy Diggory Venn ['Mrs. Venn', 'Diggory Venn']\n",
      "108 The_Return_of_the_Native_Thomas_Hardy Damon Wildeve ['MR. WILDEVE', 'Damon']\n",
      "108 The_Return_of_the_Native_Thomas_Hardy Eustacia Vye ['Miss Eustacia', 'Eustacia Vye']\n"
     ]
    }
   ],
   "source": [
    "# one thing that was suspicious - for first book there were multiple characters that were mapping to same name\n",
    "# in annotations, so let's see how many of those are there\n",
    "\n",
    "for i, book in enumerate(books):\n",
    "    chars = col.defaultdict(list)\n",
    "    book_name = book.name\n",
    "    subset = all_X[all_X['book_name'] == book_name]\n",
    "    present_chars = pd.concat([subset['char_1'], subset['char_2']]).unique()\n",
    "    for char in book.characters.meaningful:\n",
    "        name = bu.book_name_to_annotated_name(book_name, char, present_chars, False)\n",
    "        if name:\n",
    "            chars[name].append(char)\n",
    "    #         print(name, \"|\", bu.longest_name(char))\n",
    "    for key in chars:\n",
    "        if len(chars[key]) > 1:\n",
    "            print(i, book_name, key, [bu.longest_name(char) for char in chars[key]])"
   ]
  },
  {
   "cell_type": "markdown",
   "metadata": {},
   "source": [
    "ok, seems that we need to 'merge' chars. First, I would try doing that according to some rules:\n",
    "- Name == Senor Name == lord Name\n",
    "- Name === Senor Don Name\n",
    "- Miss Firstname ~~ Miss Firstname Lastname (but not Mrs)\n",
    "- Mrs. Firstname Lastname ~~ Mrs. Lastname\n",
    "- some name alternatives might be used Richard -> Dick, William -> Bob, etc\n",
    "- some initials can be used instead of firstname\n",
    "- might want to clean `--` in some names and merge with some prefix\n",
    "- nicknames used in parenthesis might exactly match with name or might be used instead of first name\n",
    "\n",
    "Basically, might try to rely on gender annotated to char and ability to deduct gender of name based on prefixes used in name + some processing for nicknames"
   ]
  },
  {
   "cell_type": "code",
   "execution_count": 10,
   "metadata": {},
   "outputs": [
    {
     "data": {
      "text/html": [
       "<div>\n",
       "<style scoped>\n",
       "    .dataframe tbody tr th:only-of-type {\n",
       "        vertical-align: middle;\n",
       "    }\n",
       "\n",
       "    .dataframe tbody tr th {\n",
       "        vertical-align: top;\n",
       "    }\n",
       "\n",
       "    .dataframe thead th {\n",
       "        text-align: right;\n",
       "    }\n",
       "</style>\n",
       "<table border=\"1\" class=\"dataframe\">\n",
       "  <thead>\n",
       "    <tr style=\"text-align: right;\">\n",
       "      <th></th>\n",
       "      <th>book_name</th>\n",
       "      <th>char_1</th>\n",
       "      <th>char_2</th>\n",
       "      <th>affinity</th>\n",
       "    </tr>\n",
       "  </thead>\n",
       "  <tbody>\n",
       "    <tr>\n",
       "      <th>0</th>\n",
       "      <td>Don_Quixote_Miguel_de_Cervantes</td>\n",
       "      <td>Don Quixote</td>\n",
       "      <td>The Duke and Duchess</td>\n",
       "      <td>0.25</td>\n",
       "    </tr>\n",
       "    <tr>\n",
       "      <th>0</th>\n",
       "      <td>Don_Quixote_Miguel_de_Cervantes</td>\n",
       "      <td>Sancho Panza</td>\n",
       "      <td>The Duke and Duchess</td>\n",
       "      <td>0.25</td>\n",
       "    </tr>\n",
       "    <tr>\n",
       "      <th>0</th>\n",
       "      <td>Don_Quixote_Miguel_de_Cervantes</td>\n",
       "      <td>Altisidora</td>\n",
       "      <td>The Duke and Duchess</td>\n",
       "      <td>0.75</td>\n",
       "    </tr>\n",
       "    <tr>\n",
       "      <th>0</th>\n",
       "      <td>Richard_II_William_Shakespeare</td>\n",
       "      <td>Henry Bolingbroke Duke of Herford</td>\n",
       "      <td>Henry Percy Earl of Northumberland; Lord Ross;...</td>\n",
       "      <td>1.00</td>\n",
       "    </tr>\n",
       "    <tr>\n",
       "      <th>0</th>\n",
       "      <td>Henry_IV_Part_2_William_Shakespeare</td>\n",
       "      <td>Duke of Gloucester; and Thomas</td>\n",
       "      <td>King Henry IV</td>\n",
       "      <td>1.00</td>\n",
       "    </tr>\n",
       "    <tr>\n",
       "      <th>0</th>\n",
       "      <td>Henry_IV_Part_2_William_Shakespeare</td>\n",
       "      <td>Mowbray and Hastings</td>\n",
       "      <td>Prince Hal (later King Henry V)</td>\n",
       "      <td>0.00</td>\n",
       "    </tr>\n",
       "    <tr>\n",
       "      <th>0</th>\n",
       "      <td>Ulysses_James_Joyce</td>\n",
       "      <td>Josie (née Powell) and Denis Breen</td>\n",
       "      <td>Leopold Bloom</td>\n",
       "      <td>0.50</td>\n",
       "    </tr>\n",
       "    <tr>\n",
       "      <th>0</th>\n",
       "      <td>Pride_and_Prejudice_Jane_Austen</td>\n",
       "      <td>Elizabeth Bennet</td>\n",
       "      <td>Mr. and Mrs. Gardiner</td>\n",
       "      <td>1.00</td>\n",
       "    </tr>\n",
       "    <tr>\n",
       "      <th>0</th>\n",
       "      <td>The_House_of_Mirth_Edith_Wharton</td>\n",
       "      <td>Jack Stepney and Gwen Stepney</td>\n",
       "      <td>Lily Bart</td>\n",
       "      <td>1.00</td>\n",
       "    </tr>\n",
       "    <tr>\n",
       "      <th>0</th>\n",
       "      <td>Hamlet_William_Shakespeare</td>\n",
       "      <td>Hamlet</td>\n",
       "      <td>Rosencrantz and Guildenstern</td>\n",
       "      <td>0.00</td>\n",
       "    </tr>\n",
       "    <tr>\n",
       "      <th>0</th>\n",
       "      <td>Hamlet_William_Shakespeare</td>\n",
       "      <td>Claudius</td>\n",
       "      <td>Voltimand and Cornelius</td>\n",
       "      <td>1.00</td>\n",
       "    </tr>\n",
       "    <tr>\n",
       "      <th>0</th>\n",
       "      <td>Sister_Carrie_Theodore_Dreiser</td>\n",
       "      <td>Fitzgerald and Moy</td>\n",
       "      <td>George Hurstwood</td>\n",
       "      <td>0.50</td>\n",
       "    </tr>\n",
       "    <tr>\n",
       "      <th>0</th>\n",
       "      <td>Northanger_Abbey_Jane_Austen</td>\n",
       "      <td>Catherine Morland</td>\n",
       "      <td>Mr. and Mrs. Allen</td>\n",
       "      <td>1.00</td>\n",
       "    </tr>\n",
       "    <tr>\n",
       "      <th>0</th>\n",
       "      <td>The_Taming_of_the_Shrew_William_Shakespeare</td>\n",
       "      <td>Bianca</td>\n",
       "      <td>Gremio and Hortensio</td>\n",
       "      <td>0.00</td>\n",
       "    </tr>\n",
       "    <tr>\n",
       "      <th>0</th>\n",
       "      <td>The_Taming_of_the_Shrew_William_Shakespeare</td>\n",
       "      <td>Gremio and Hortensio</td>\n",
       "      <td>Lucentio</td>\n",
       "      <td>0.00</td>\n",
       "    </tr>\n",
       "    <tr>\n",
       "      <th>0</th>\n",
       "      <td>The_Taming_of_the_Shrew_William_Shakespeare</td>\n",
       "      <td>Gremio and Hortensio</td>\n",
       "      <td>Petruchio</td>\n",
       "      <td>1.00</td>\n",
       "    </tr>\n",
       "    <tr>\n",
       "      <th>0</th>\n",
       "      <td>Main_Street_Sinclair_Lewis</td>\n",
       "      <td>Aunt Bessie and Uncle Whittier Smail</td>\n",
       "      <td>Kennicott</td>\n",
       "      <td>0.50</td>\n",
       "    </tr>\n",
       "    <tr>\n",
       "      <th>0</th>\n",
       "      <td>Titus_Andronicus_William_Shakespeare</td>\n",
       "      <td>Chiron and Demetrius</td>\n",
       "      <td>Tamora</td>\n",
       "      <td>0.50</td>\n",
       "    </tr>\n",
       "  </tbody>\n",
       "</table>\n",
       "</div>"
      ],
      "text/plain": [
       "                                     book_name  \\\n",
       "0              Don_Quixote_Miguel_de_Cervantes   \n",
       "0              Don_Quixote_Miguel_de_Cervantes   \n",
       "0              Don_Quixote_Miguel_de_Cervantes   \n",
       "0               Richard_II_William_Shakespeare   \n",
       "0          Henry_IV_Part_2_William_Shakespeare   \n",
       "0          Henry_IV_Part_2_William_Shakespeare   \n",
       "0                          Ulysses_James_Joyce   \n",
       "0              Pride_and_Prejudice_Jane_Austen   \n",
       "0             The_House_of_Mirth_Edith_Wharton   \n",
       "0                   Hamlet_William_Shakespeare   \n",
       "0                   Hamlet_William_Shakespeare   \n",
       "0               Sister_Carrie_Theodore_Dreiser   \n",
       "0                 Northanger_Abbey_Jane_Austen   \n",
       "0  The_Taming_of_the_Shrew_William_Shakespeare   \n",
       "0  The_Taming_of_the_Shrew_William_Shakespeare   \n",
       "0  The_Taming_of_the_Shrew_William_Shakespeare   \n",
       "0                   Main_Street_Sinclair_Lewis   \n",
       "0         Titus_Andronicus_William_Shakespeare   \n",
       "\n",
       "                                 char_1  \\\n",
       "0                           Don Quixote   \n",
       "0                          Sancho Panza   \n",
       "0                            Altisidora   \n",
       "0     Henry Bolingbroke Duke of Herford   \n",
       "0        Duke of Gloucester; and Thomas   \n",
       "0                  Mowbray and Hastings   \n",
       "0    Josie (née Powell) and Denis Breen   \n",
       "0                      Elizabeth Bennet   \n",
       "0         Jack Stepney and Gwen Stepney   \n",
       "0                                Hamlet   \n",
       "0                              Claudius   \n",
       "0                    Fitzgerald and Moy   \n",
       "0                     Catherine Morland   \n",
       "0                                Bianca   \n",
       "0                  Gremio and Hortensio   \n",
       "0                  Gremio and Hortensio   \n",
       "0  Aunt Bessie and Uncle Whittier Smail   \n",
       "0                  Chiron and Demetrius   \n",
       "\n",
       "                                              char_2  affinity  \n",
       "0                               The Duke and Duchess      0.25  \n",
       "0                               The Duke and Duchess      0.25  \n",
       "0                               The Duke and Duchess      0.75  \n",
       "0  Henry Percy Earl of Northumberland; Lord Ross;...      1.00  \n",
       "0                                      King Henry IV      1.00  \n",
       "0                    Prince Hal (later King Henry V)      0.00  \n",
       "0                                      Leopold Bloom      0.50  \n",
       "0                              Mr. and Mrs. Gardiner      1.00  \n",
       "0                                          Lily Bart      1.00  \n",
       "0                       Rosencrantz and Guildenstern      0.00  \n",
       "0                            Voltimand and Cornelius      1.00  \n",
       "0                                   George Hurstwood      0.50  \n",
       "0                                 Mr. and Mrs. Allen      1.00  \n",
       "0                               Gremio and Hortensio      0.00  \n",
       "0                                           Lucentio      0.00  \n",
       "0                                          Petruchio      1.00  \n",
       "0                                          Kennicott      0.50  \n",
       "0                                             Tamora      0.50  "
      ]
     },
     "execution_count": 10,
     "metadata": {},
     "output_type": "execute_result"
    }
   ],
   "source": [
    "# yet another issue with annotated data - there are entries X and Y\n",
    "all_df[(all_df['char_1'].str.contains(' and ')) | (all_df['char_2'].str.contains(' and '))]\n",
    "# further work - need to split it into multiple entries, issue here is what to do with annotation to 'pair' + there\n",
    "# won't be relations between chars in pair 🤔 - assuming X to Y & Z has same relation as X to Y and X to Z"
   ]
  },
  {
   "cell_type": "code",
   "execution_count": 11,
   "metadata": {},
   "outputs": [],
   "source": [
    "# https://git.io/vpzth\n",
    "def splitDataFrameList(df,target_column,separator):\n",
    "    ''' df = dataframe to split,\n",
    "    target_column = the column containing the values to split\n",
    "    separator = the symbol used to perform the split\n",
    "    returns: a dataframe with each entry for the target column separated, with each element moved into a new row. \n",
    "    The values in the other columns are duplicated across the newly divided rows.\n",
    "    '''\n",
    "    row_accumulator = []\n",
    "\n",
    "    def splitListToRows(row, separator):\n",
    "        split_row = row[target_column].split(separator)\n",
    "        for s in split_row:\n",
    "            new_row = row.to_dict()\n",
    "            new_row[target_column] = s\n",
    "            row_accumulator.append(new_row)\n",
    "\n",
    "    df.apply(splitListToRows, axis=1, args = (separator, ))\n",
    "    new_df = pd.DataFrame(row_accumulator)\n",
    "    return new_df\n",
    "\n",
    "new_df = splitDataFrameList(all_df, 'char_1', ' and ')\n",
    "new_df = splitDataFrameList(new_df, 'char_2', ' and ')\n",
    "\n",
    "all_y = new_df['affinity'].copy()\n",
    "all_X = new_df.drop('affinity', axis=1)\n",
    "# Removed cells retraining baseline as we got 36 extra rows in X / Y and it didn't affect any metrics,\n",
    "# apart from droping by 0.01 recall for one class"
   ]
  },
  {
   "cell_type": "code",
   "execution_count": 12,
   "metadata": {},
   "outputs": [],
   "source": [
    "# First point: find 'main' characters close to those in annotations\n",
    "# might putting this into book_utils.py\n",
    "def get_rel_stats(book):\n",
    "    meaningful_rels = {}\n",
    "    rels = col.defaultdict(col.Counter)\n",
    "    for p in book.paragraphs:\n",
    "        chars = set(p[p['characterId'] > 0 ]['characterId'].unique())\n",
    "        for char in chars:\n",
    "            if len(chars) > 1:\n",
    "                other_chars = chars - set([char])\n",
    "                rels[char].update(list(other_chars))\n",
    "    sums = {}\n",
    "    counts = {}\n",
    "    for char in rels:\n",
    "        sums[char] = sum(rels[char].values())\n",
    "        counts[char] = len(rels[char].values())\n",
    "    return rels, sums, counts\n",
    "def get_meaningful_chars(book):\n",
    "    rels, sums, counts = get_rel_stats(book)\n",
    "    possible_chars = book.characters.meaningful\n",
    "    \n",
    "    filtered = [char for char in possible_chars if char['id'] in sums and sums[char['id']] > 3]\n",
    "    return filtered\n",
    "\n",
    "def evaluate(book, chars, present_chars):\n",
    "    total = 0\n",
    "    tp = 0\n",
    "    found_chars = set([])\n",
    "    for char in chars:\n",
    "        name = bu.book_name_to_annotated_name(book.name, char, present_chars, False)\n",
    "        if name:\n",
    "            found_chars.update([name])\n",
    "#     print(found_chars)\n",
    "#     print(set(present_chars) - found_chars)        \n",
    "    return len(found_chars) == len(present_chars), len(present_chars) - len(found_chars), len(chars) - len(present_chars)"
   ]
  },
  {
   "cell_type": "code",
   "execution_count": 13,
   "metadata": {},
   "outputs": [
    {
     "name": "stderr",
     "output_type": "stream",
     "text": [
      "  2%|▏         | 2/109 [00:12<12:04,  6.77s/it]"
     ]
    },
    {
     "name": "stdout",
     "output_type": "stream",
     "text": [
      "got_all for Little_Women_Louisa_May_Alcott\n"
     ]
    },
    {
     "name": "stderr",
     "output_type": "stream",
     "text": [
      "  4%|▎         | 4/109 [00:15<07:20,  4.20s/it]"
     ]
    },
    {
     "name": "stdout",
     "output_type": "stream",
     "text": [
      "WARNING: Mrs. John Dashwood might have multiple aliases: ['John Dashwood', 'Mrs. Dashwood']\n"
     ]
    },
    {
     "name": "stderr",
     "output_type": "stream",
     "text": [
      "  9%|▉         | 10/109 [00:39<06:52,  4.17s/it]"
     ]
    },
    {
     "name": "stdout",
     "output_type": "stream",
     "text": [
      "got_all for Typee_Herman_Melville\n"
     ]
    },
    {
     "name": "stderr",
     "output_type": "stream",
     "text": [
      " 12%|█▏        | 13/109 [00:54<08:00,  5.01s/it]"
     ]
    },
    {
     "name": "stdout",
     "output_type": "stream",
     "text": [
      "got_all for Emma_Jane_Austen\n"
     ]
    },
    {
     "name": "stderr",
     "output_type": "stream",
     "text": [
      " 15%|█▍        | 16/109 [01:04<05:52,  3.79s/it]"
     ]
    },
    {
     "name": "stdout",
     "output_type": "stream",
     "text": [
      "got_all for The_Adventures_of_Tom_Sawyer_Mark_Twain\n"
     ]
    },
    {
     "name": "stderr",
     "output_type": "stream",
     "text": [
      " 29%|██▉       | 32/109 [01:56<06:26,  5.02s/it]"
     ]
    },
    {
     "name": "stdout",
     "output_type": "stream",
     "text": [
      "got_all for Ulysses_James_Joyce\n"
     ]
    },
    {
     "name": "stderr",
     "output_type": "stream",
     "text": [
      "\r",
      " 30%|███       | 33/109 [01:58<05:04,  4.01s/it]"
     ]
    },
    {
     "name": "stdout",
     "output_type": "stream",
     "text": [
      "WARNING: Hector son of Priam might have multiple aliases: ['Priam', 'Hector']\n"
     ]
    },
    {
     "name": "stderr",
     "output_type": "stream",
     "text": [
      " 35%|███▍      | 38/109 [02:04<02:33,  2.17s/it]"
     ]
    },
    {
     "name": "stdout",
     "output_type": "stream",
     "text": [
      "got_all for O_Pioneers!_Willa_Cather\n"
     ]
    },
    {
     "name": "stderr",
     "output_type": "stream",
     "text": [
      " 39%|███▉      | 43/109 [03:00<14:21, 13.05s/it]"
     ]
    },
    {
     "name": "stdout",
     "output_type": "stream",
     "text": [
      "got_all for War_and_Peace_Leo_Tolstoy\n"
     ]
    },
    {
     "name": "stderr",
     "output_type": "stream",
     "text": [
      "\r",
      " 40%|████      | 44/109 [03:12<13:59, 12.92s/it]"
     ]
    },
    {
     "name": "stdout",
     "output_type": "stream",
     "text": [
      "got_all for Middlemarch_George_Eliot\n"
     ]
    },
    {
     "name": "stderr",
     "output_type": "stream",
     "text": [
      "\r",
      " 41%|████▏     | 45/109 [03:16<10:46, 10.11s/it]"
     ]
    },
    {
     "name": "stdout",
     "output_type": "stream",
     "text": [
      "got_all for Pride_and_Prejudice_Jane_Austen\n"
     ]
    },
    {
     "name": "stderr",
     "output_type": "stream",
     "text": [
      " 45%|████▍     | 49/109 [03:22<03:45,  3.75s/it]"
     ]
    },
    {
     "name": "stdout",
     "output_type": "stream",
     "text": [
      "got_all for Anne_of_Green_Gables_L._M._Montgomery\n"
     ]
    },
    {
     "name": "stderr",
     "output_type": "stream",
     "text": [
      " 47%|████▋     | 51/109 [03:27<03:08,  3.26s/it]"
     ]
    },
    {
     "name": "stdout",
     "output_type": "stream",
     "text": [
      "got_all for Babbitt_Sinclair_Lewis\n"
     ]
    },
    {
     "name": "stderr",
     "output_type": "stream",
     "text": [
      " 49%|████▊     | 53/109 [03:32<02:41,  2.89s/it]"
     ]
    },
    {
     "name": "stdout",
     "output_type": "stream",
     "text": [
      "WARNING: Le Bret et Ragueneau might have multiple aliases: ['Le Bret', 'Ragueneau']\n"
     ]
    },
    {
     "name": "stderr",
     "output_type": "stream",
     "text": [
      " 51%|█████▏    | 56/109 [03:41<03:03,  3.47s/it]"
     ]
    },
    {
     "name": "stdout",
     "output_type": "stream",
     "text": [
      "WARNING: Mrs. Joe Gargery might have multiple aliases: ['Joe Gargery', 'Mrs. Joe']\n"
     ]
    },
    {
     "name": "stderr",
     "output_type": "stream",
     "text": [
      " 56%|█████▌    | 61/109 [03:50<01:50,  2.30s/it]"
     ]
    },
    {
     "name": "stdout",
     "output_type": "stream",
     "text": [
      "got_all for Dracula_Bram_Stoker\n"
     ]
    },
    {
     "name": "stderr",
     "output_type": "stream",
     "text": [
      "\r",
      " 57%|█████▋    | 62/109 [03:53<01:54,  2.43s/it]"
     ]
    },
    {
     "name": "stdout",
     "output_type": "stream",
     "text": [
      "got_all for The_House_of_Mirth_Edith_Wharton\n"
     ]
    },
    {
     "name": "stderr",
     "output_type": "stream",
     "text": [
      " 59%|█████▊    | 64/109 [03:59<02:17,  3.06s/it]"
     ]
    },
    {
     "name": "stdout",
     "output_type": "stream",
     "text": [
      "got_all for Howards_End_E._M._Forster\n"
     ]
    },
    {
     "name": "stderr",
     "output_type": "stream",
     "text": [
      " 64%|██████▍   | 70/109 [04:09<00:56,  1.46s/it]"
     ]
    },
    {
     "name": "stdout",
     "output_type": "stream",
     "text": [
      "got_all for Far_from_the_Madding_Crowd_Thomas_Hardy\n"
     ]
    },
    {
     "name": "stderr",
     "output_type": "stream",
     "text": [
      "\r",
      " 65%|██████▌   | 71/109 [04:10<00:49,  1.31s/it]"
     ]
    },
    {
     "name": "stdout",
     "output_type": "stream",
     "text": [
      "WARNING: Mrs. Ned Hale might have multiple aliases: ['Ned Hale', 'Mrs. Ned Hale']\n"
     ]
    },
    {
     "name": "stderr",
     "output_type": "stream",
     "text": [
      " 72%|███████▏  | 78/109 [04:29<01:04,  2.08s/it]"
     ]
    },
    {
     "name": "stdout",
     "output_type": "stream",
     "text": [
      "got_all for The_Taming_of_the_Shrew_William_Shakespeare\n"
     ]
    },
    {
     "name": "stderr",
     "output_type": "stream",
     "text": [
      " 74%|███████▍  | 81/109 [04:35<01:00,  2.15s/it]"
     ]
    },
    {
     "name": "stdout",
     "output_type": "stream",
     "text": [
      "got_all for Mansfield_Park_Jane_Austen\n"
     ]
    },
    {
     "name": "stderr",
     "output_type": "stream",
     "text": [
      " 77%|███████▋  | 84/109 [04:45<01:22,  3.29s/it]"
     ]
    },
    {
     "name": "stdout",
     "output_type": "stream",
     "text": [
      "got_all for The_Portrait_of_a_Lady_Henry_James\n"
     ]
    },
    {
     "name": "stderr",
     "output_type": "stream",
     "text": [
      "\r",
      " 78%|███████▊  | 85/109 [04:51<01:41,  4.22s/it]"
     ]
    },
    {
     "name": "stdout",
     "output_type": "stream",
     "text": [
      "got_all for Main_Street_Sinclair_Lewis\n"
     ]
    },
    {
     "name": "stderr",
     "output_type": "stream",
     "text": [
      " 94%|█████████▎| 102/109 [05:21<00:10,  1.46s/it]"
     ]
    },
    {
     "name": "stdout",
     "output_type": "stream",
     "text": [
      "got_all for Pygmalion_George_Bernard_Shaw\n"
     ]
    },
    {
     "name": "stderr",
     "output_type": "stream",
     "text": [
      "\r",
      " 94%|█████████▍| 103/109 [05:25<00:13,  2.18s/it]"
     ]
    },
    {
     "name": "stdout",
     "output_type": "stream",
     "text": [
      "WARNING: Elizabeth-Jane Newson might have multiple aliases: ['Newson', 'Elizabeth-Jane Newson']\n",
      "got_all for The_Mayor_of_Casterbridge_Thomas_Hardy\n"
     ]
    },
    {
     "name": "stderr",
     "output_type": "stream",
     "text": [
      "100%|██████████| 109/109 [05:39<00:00,  2.99s/it]"
     ]
    },
    {
     "name": "stdout",
     "output_type": "stream",
     "text": [
      "got_all 21, total_unmatched 357, total_extra 4211\n"
     ]
    },
    {
     "name": "stderr",
     "output_type": "stream",
     "text": [
      "\n"
     ]
    }
   ],
   "source": [
    "got_all_count = 0\n",
    "total_unmatched = 0\n",
    "total_extra = 0\n",
    "for book in tqdm(books):\n",
    "    # rels, sums, counts = get_rel_stats(book)\n",
    "    meaningful = get_meaningful_chars(book)\n",
    "    target_X = all_X[all_X['book_name'] == book.name]\n",
    "    present_chars = pd.concat([target_X['char_1'], target_X['char_2']]).unique()\n",
    "    got_all, unmatched, extra_matched = evaluate(book, meaningful, present_chars)\n",
    "    if got_all:\n",
    "        got_all_count += 1\n",
    "        print(f'got_all for {book.name}')\n",
    "    total_unmatched += unmatched\n",
    "    total_extra += extra_matched\n",
    "print(f'got_all {got_all_count}, total_unmatched {total_unmatched}, total_extra {total_extra}')"
   ]
  },
  {
   "cell_type": "code",
   "execution_count": 14,
   "metadata": {},
   "outputs": [],
   "source": [
    "# with sum threshold 10 - got_all 8, total_unmatched 533, total_extra 1145\n",
    "# with sum threshold 5 - got_all 12, total_unmatched 430, total_extra 2220\n",
    "# 🌟 with sum threshold 3 - got_all 16, total_unmatched 394, total_extra 2940\n",
    "# with sum threshold 1 - got_all 19, total_unmatched 353, total_extra 3950\n",
    "# with sum threshold 0 - got_all 19, total_unmatched 339, total_extra 4501\n",
    "# with counts threshold 2 - got_all 15, total_unmatched 399, total_extra 3172"
   ]
  },
  {
   "cell_type": "markdown",
   "metadata": {},
   "source": [
    "Okay, after putting some time into trying to identify subset of characters that are important to make this slightly faster to compute and more interesting in terms of end-2-end running and not just classification by making sure we are capturing all the important characters and as little as possible unimportant ones I have 2 things to share:\n",
    "- some simple metric isn't good enough and this might need another model 🤦 \n",
    "- no need to care about 'extra' characters, but should aim at do finding all the chars that were labelled\n",
    "(partially this is caused by 'unmerged'chars)"
   ]
  },
  {
   "cell_type": "code",
   "execution_count": 15,
   "metadata": {},
   "outputs": [
    {
     "data": {
      "text/plain": [
       "(1486,)"
      ]
     },
     "execution_count": 15,
     "metadata": {},
     "output_type": "execute_result"
    }
   ],
   "source": [
    "all_y.shape"
   ]
  },
  {
   "cell_type": "code",
   "execution_count": 16,
   "metadata": {},
   "outputs": [],
   "source": [
    "categories = annotations[['book_name', 'character_1', 'character_2', 'coarse_category']].copy()\n",
    "new_categories = splitDataFrameList(categories, 'character_1', ' and ')\n",
    "new_categories = splitDataFrameList(new_categories, 'character_2', ' and ')\n",
    "\n",
    "def lookup_category(row):\n",
    "    matching_categories = new_categories[\n",
    "        (new_categories['book_name'] == row['book_name']) &\n",
    "        ((new_categories['character_1'] == row['char_1']) & (new_categories['character_2'] == row['char_2']) |\n",
    "        (new_categories['character_2'] == row['char_1']) & (new_categories['character_1'] == row['char_2']))\n",
    "        & (new_categories['coarse_category'] != 'NR')\n",
    "    ]['coarse_category'].unique()\n",
    "    # Okay, super weird thing, but going with the whim here and might redo later\n",
    "    # professional > familial > social\n",
    "    if 'professional' in matching_categories:\n",
    "        return 'professional'\n",
    "    if 'familial' in matching_categories:\n",
    "        return 'familial'\n",
    "    if 'social' in matching_categories:\n",
    "        return 'social'\n",
    "\n",
    "new_df['category'] = new_df.apply(lookup_category, axis=1)"
   ]
  },
  {
   "cell_type": "code",
   "execution_count": 17,
   "metadata": {},
   "outputs": [
    {
     "data": {
      "text/plain": [
       "social          886\n",
       "familial        823\n",
       "professional    421\n",
       "NR                7\n",
       "Name: coarse_category, dtype: int64"
      ]
     },
     "execution_count": 17,
     "metadata": {},
     "output_type": "execute_result"
    }
   ],
   "source": [
    "categories['coarse_category'].value_counts()"
   ]
  },
  {
   "cell_type": "code",
   "execution_count": 18,
   "metadata": {},
   "outputs": [
    {
     "data": {
      "text/plain": [
       "social          897\n",
       "familial        830\n",
       "professional    427\n",
       "NR                7\n",
       "Name: coarse_category, dtype: int64"
      ]
     },
     "execution_count": 18,
     "metadata": {},
     "output_type": "execute_result"
    }
   ],
   "source": [
    "new_categories['coarse_category'].value_counts()"
   ]
  },
  {
   "cell_type": "code",
   "execution_count": 19,
   "metadata": {},
   "outputs": [
    {
     "data": {
      "text/plain": [
       "social          589\n",
       "familial        559\n",
       "professional    335\n",
       "Name: category, dtype: int64"
      ]
     },
     "execution_count": 19,
     "metadata": {},
     "output_type": "execute_result"
    }
   ],
   "source": [
    "# given we had overlaps, there would be fewer entries\n",
    "new_df['category'].value_counts()"
   ]
  },
  {
   "cell_type": "code",
   "execution_count": 20,
   "metadata": {},
   "outputs": [],
   "source": [
    "all_y = new_df[['affinity', 'category']].copy()\n",
    "all_X = new_df.drop(['affinity', 'category'], axis=1)"
   ]
  },
  {
   "cell_type": "code",
   "execution_count": 21,
   "metadata": {},
   "outputs": [
    {
     "data": {
      "text/plain": [
       "'DONE'"
      ]
     },
     "execution_count": 21,
     "metadata": {},
     "output_type": "execute_result"
    }
   ],
   "source": [
    "book_mapping = {}\n",
    "book_names = all_X['book_name'].unique()\n",
    "for name in book_names:\n",
    "    found = False\n",
    "    for book in books:\n",
    "        if found:\n",
    "            break\n",
    "        if book.name == name:\n",
    "            book_mapping[name] = book\n",
    "            found = True\n",
    "\"DONE\""
   ]
  },
  {
   "cell_type": "code",
   "execution_count": 22,
   "metadata": {},
   "outputs": [
    {
     "data": {
      "text/plain": [
       "count       1483\n",
       "unique         3\n",
       "top       social\n",
       "freq         589\n",
       "Name: category, dtype: object"
      ]
     },
     "execution_count": 22,
     "metadata": {},
     "output_type": "execute_result"
    }
   ],
   "source": [
    "all_y['category'].describe()"
   ]
  },
  {
   "cell_type": "code",
   "execution_count": 210,
   "metadata": {},
   "outputs": [],
   "source": [
    "X_train_aff, X_test_aff, y_train_aff, y_test_aff = train_test_split(all_X, all_y['affinity'], test_size=0.33, random_state=42)"
   ]
  },
  {
   "cell_type": "markdown",
   "metadata": {},
   "source": [
    "### BOW + LogReg"
   ]
  },
  {
   "cell_type": "code",
   "execution_count": 94,
   "metadata": {
    "scrolled": true
   },
   "outputs": [
    {
     "name": "stderr",
     "output_type": "stream",
     "text": [
      "  3%|▎         | 48/1486 [00:31<06:55,  3.46it/s]  "
     ]
    },
    {
     "name": "stdout",
     "output_type": "stream",
     "text": [
      "WARNING: Mrs. John Dashwood might have multiple aliases: ['John Dashwood', 'Mrs. Dashwood']\n"
     ]
    },
    {
     "name": "stderr",
     "output_type": "stream",
     "text": [
      "\r",
      "  3%|▎         | 52/1486 [00:37<14:21,  1.66it/s]"
     ]
    },
    {
     "name": "stdout",
     "output_type": "stream",
     "text": [
      "WARNING: Mrs. John Dashwood might have multiple aliases: ['John Dashwood', 'Mrs. Dashwood']\n",
      "WARNING: Mrs. John Dashwood might have multiple aliases: ['John Dashwood', 'Mrs. Dashwood']\n",
      "WARNING: Mrs. John Dashwood might have multiple aliases: ['John Dashwood', 'Mrs. Dashwood']\n",
      "WARNING: Mrs. John Dashwood might have multiple aliases: ['John Dashwood', 'Mrs. Dashwood']\n",
      "WARNING: Mrs. John Dashwood might have multiple aliases: ['John Dashwood', 'Mrs. Dashwood']\n"
     ]
    },
    {
     "name": "stderr",
     "output_type": "stream",
     "text": [
      "\r",
      "  4%|▎         | 55/1486 [00:37<11:12,  2.13it/s]"
     ]
    },
    {
     "name": "stdout",
     "output_type": "stream",
     "text": [
      "WARNING: Mrs. John Dashwood might have multiple aliases: ['John Dashwood', 'Mrs. Dashwood']\n",
      "WARNING: Mrs. John Dashwood might have multiple aliases: ['John Dashwood', 'Mrs. Dashwood']\n",
      "WARNING: Mrs. John Dashwood might have multiple aliases: ['John Dashwood', 'Mrs. Dashwood']\n",
      "WARNING: Mrs. John Dashwood might have multiple aliases: ['John Dashwood', 'Mrs. Dashwood']\n",
      "WARNING: Mrs. John Dashwood might have multiple aliases: ['John Dashwood', 'Mrs. Dashwood']\n",
      "WARNING: Mrs. John Dashwood might have multiple aliases: ['John Dashwood', 'Mrs. Dashwood']\n",
      "WARNING: Mrs. John Dashwood might have multiple aliases: ['John Dashwood', 'Mrs. Dashwood']\n",
      "WARNING: Mrs. John Dashwood might have multiple aliases: ['John Dashwood', 'Mrs. Dashwood']\n"
     ]
    },
    {
     "name": "stderr",
     "output_type": "stream",
     "text": [
      "\r",
      "  4%|▍         | 63/1486 [00:37<08:07,  2.92it/s]"
     ]
    },
    {
     "name": "stdout",
     "output_type": "stream",
     "text": [
      "WARNING: Mrs. John Dashwood might have multiple aliases: ['John Dashwood', 'Mrs. Dashwood']\n"
     ]
    },
    {
     "name": "stderr",
     "output_type": "stream",
     "text": [
      " 31%|███       | 454/1486 [04:24<04:43,  3.64it/s]  "
     ]
    },
    {
     "name": "stdout",
     "output_type": "stream",
     "text": [
      "WARNING: Hector son of Priam might have multiple aliases: ['Priam', 'Hector']\n",
      "WARNING: Hector son of Priam might have multiple aliases: ['Priam', 'Hector']\n"
     ]
    },
    {
     "name": "stderr",
     "output_type": "stream",
     "text": [
      " 31%|███       | 462/1486 [04:26<05:53,  2.90it/s]"
     ]
    },
    {
     "name": "stdout",
     "output_type": "stream",
     "text": [
      "WARNING: Hector son of Priam might have multiple aliases: ['Priam', 'Hector']\n",
      "WARNING: Hector son of Priam might have multiple aliases: ['Priam', 'Hector']\n",
      "WARNING: Hector son of Priam might have multiple aliases: ['Priam', 'Hector']\n",
      "WARNING: Hector son of Priam might have multiple aliases: ['Priam', 'Hector']\n",
      "WARNING: Hector son of Priam might have multiple aliases: ['Priam', 'Hector']\n",
      "WARNING: Hector son of Priam might have multiple aliases: ['Priam', 'Hector']\n",
      "WARNING: Hector son of Priam might have multiple aliases: ['Priam', 'Hector']\n",
      "WARNING: Hector son of Priam might have multiple aliases: ['Priam', 'Hector']\n",
      "WARNING: Hector son of Priam might have multiple aliases: ['Priam', 'Hector']\n"
     ]
    },
    {
     "name": "stderr",
     "output_type": "stream",
     "text": [
      "\r",
      " 31%|███▏      | 468/1486 [04:26<04:13,  4.02it/s]"
     ]
    },
    {
     "name": "stdout",
     "output_type": "stream",
     "text": [
      "WARNING: Hector son of Priam might have multiple aliases: ['Priam', 'Hector']\n",
      "WARNING: Hector son of Priam might have multiple aliases: ['Priam', 'Hector']\n",
      "WARNING: Hector son of Priam might have multiple aliases: ['Priam', 'Hector']\n"
     ]
    },
    {
     "name": "stderr",
     "output_type": "stream",
     "text": [
      " 50%|█████     | 745/1486 [06:57<04:05,  3.01it/s]  "
     ]
    },
    {
     "name": "stdout",
     "output_type": "stream",
     "text": [
      "WARNING: Le Bret et Ragueneau might have multiple aliases: ['Le Bret', 'Ragueneau']\n",
      "WARNING: Le Bret et Ragueneau might have multiple aliases: ['Le Bret', 'Ragueneau']\n",
      "WARNING: Le Bret et Ragueneau might have multiple aliases: ['Le Bret', 'Ragueneau']\n",
      "WARNING: Le Bret et Ragueneau might have multiple aliases: ['Le Bret', 'Ragueneau']\n"
     ]
    },
    {
     "name": "stderr",
     "output_type": "stream",
     "text": [
      "\r",
      " 50%|█████     | 748/1486 [07:00<06:27,  1.91it/s]"
     ]
    },
    {
     "name": "stdout",
     "output_type": "stream",
     "text": [
      "WARNING: Le Bret et Ragueneau might have multiple aliases: ['Le Bret', 'Ragueneau']\n",
      "WARNING: Le Bret et Ragueneau might have multiple aliases: ['Le Bret', 'Ragueneau']\n",
      "WARNING: Le Bret et Ragueneau might have multiple aliases: ['Le Bret', 'Ragueneau']\n",
      "WARNING: Le Bret et Ragueneau might have multiple aliases: ['Le Bret', 'Ragueneau']\n",
      "WARNING: Le Bret et Ragueneau might have multiple aliases: ['Le Bret', 'Ragueneau']\n",
      "WARNING: Le Bret et Ragueneau might have multiple aliases: ['Le Bret', 'Ragueneau']\n",
      "WARNING: Le Bret et Ragueneau might have multiple aliases: ['Le Bret', 'Ragueneau']\n",
      "WARNING: Le Bret et Ragueneau might have multiple aliases: ['Le Bret', 'Ragueneau']\n"
     ]
    },
    {
     "name": "stderr",
     "output_type": "stream",
     "text": [
      " 52%|█████▏    | 775/1486 [07:05<03:51,  3.07it/s]"
     ]
    },
    {
     "name": "stdout",
     "output_type": "stream",
     "text": [
      "WARNING: Mrs. Joe Gargery might have multiple aliases: ['Joe Gargery', 'Mrs. Joe']\n"
     ]
    },
    {
     "name": "stderr",
     "output_type": "stream",
     "text": [
      " 53%|█████▎    | 787/1486 [07:16<04:37,  2.52it/s]"
     ]
    },
    {
     "name": "stdout",
     "output_type": "stream",
     "text": [
      "WARNING: Mrs. Joe Gargery might have multiple aliases: ['Joe Gargery', 'Mrs. Joe']\n",
      "WARNING: Mrs. Joe Gargery might have multiple aliases: ['Joe Gargery', 'Mrs. Joe']\n",
      "WARNING: Mrs. Joe Gargery might have multiple aliases: ['Joe Gargery', 'Mrs. Joe']\n",
      "WARNING: Mrs. Joe Gargery might have multiple aliases: ['Joe Gargery', 'Mrs. Joe']\n"
     ]
    },
    {
     "name": "stderr",
     "output_type": "stream",
     "text": [
      " 54%|█████▎    | 796/1486 [07:16<02:26,  4.72it/s]"
     ]
    },
    {
     "name": "stdout",
     "output_type": "stream",
     "text": [
      "WARNING: Mrs. Joe Gargery might have multiple aliases: ['Joe Gargery', 'Mrs. Joe']\n",
      "WARNING: Mrs. Joe Gargery might have multiple aliases: ['Joe Gargery', 'Mrs. Joe']\n",
      "WARNING: Mrs. Joe Gargery might have multiple aliases: ['Joe Gargery', 'Mrs. Joe']\n",
      "WARNING: Mrs. Joe Gargery might have multiple aliases: ['Joe Gargery', 'Mrs. Joe']\n",
      "WARNING: Mrs. Joe Gargery might have multiple aliases: ['Joe Gargery', 'Mrs. Joe']\n",
      "WARNING: Mrs. Joe Gargery might have multiple aliases: ['Joe Gargery', 'Mrs. Joe']\n",
      "WARNING: Mrs. Joe Gargery might have multiple aliases: ['Joe Gargery', 'Mrs. Joe']\n",
      "WARNING: Mrs. Joe Gargery might have multiple aliases: ['Joe Gargery', 'Mrs. Joe']\n",
      "WARNING: Mrs. Joe Gargery might have multiple aliases: ['Joe Gargery', 'Mrs. Joe']\n",
      "WARNING: Mrs. Joe Gargery might have multiple aliases: ['Joe Gargery', 'Mrs. Joe']\n"
     ]
    },
    {
     "name": "stderr",
     "output_type": "stream",
     "text": [
      "\r",
      " 54%|█████▍    | 800/1486 [07:16<01:49,  6.27it/s]"
     ]
    },
    {
     "name": "stdout",
     "output_type": "stream",
     "text": [
      "WARNING: Mrs. Joe Gargery might have multiple aliases: ['Joe Gargery', 'Mrs. Joe']\n"
     ]
    },
    {
     "name": "stderr",
     "output_type": "stream",
     "text": [
      " 66%|██████▌   | 983/1486 [08:18<04:09,  2.02it/s]"
     ]
    },
    {
     "name": "stdout",
     "output_type": "stream",
     "text": [
      "WARNING: Mrs. Ned Hale might have multiple aliases: ['Ned Hale', 'Mrs. Ned Hale']\n"
     ]
    },
    {
     "name": "stderr",
     "output_type": "stream",
     "text": [
      " 67%|██████▋   | 992/1486 [08:19<05:10,  1.59it/s]"
     ]
    },
    {
     "name": "stdout",
     "output_type": "stream",
     "text": [
      "WARNING: Mrs. Ned Hale might have multiple aliases: ['Ned Hale', 'Mrs. Ned Hale']\n",
      "WARNING: Mrs. Ned Hale might have multiple aliases: ['Ned Hale', 'Mrs. Ned Hale']\n",
      "WARNING: Mrs. Ned Hale might have multiple aliases: ['Ned Hale', 'Mrs. Ned Hale']\n",
      "WARNING: Mrs. Ned Hale might have multiple aliases: ['Ned Hale', 'Mrs. Ned Hale']\n",
      "WARNING: Mrs. Ned Hale might have multiple aliases: ['Ned Hale', 'Mrs. Ned Hale']\n",
      "WARNING: Mrs. Ned Hale might have multiple aliases: ['Ned Hale', 'Mrs. Ned Hale']\n",
      "WARNING: Mrs. Ned Hale might have multiple aliases: ['Ned Hale', 'Mrs. Ned Hale']\n",
      "WARNING: Mrs. Ned Hale might have multiple aliases: ['Ned Hale', 'Mrs. Ned Hale']\n",
      "WARNING: Mrs. Ned Hale might have multiple aliases: ['Ned Hale', 'Mrs. Ned Hale']\n",
      "WARNING: Mrs. Ned Hale might have multiple aliases: ['Ned Hale', 'Mrs. Ned Hale']\n"
     ]
    },
    {
     "name": "stderr",
     "output_type": "stream",
     "text": [
      " 94%|█████████▎| 1390/1486 [10:39<00:23,  4.03it/s]"
     ]
    },
    {
     "name": "stdout",
     "output_type": "stream",
     "text": [
      "WARNING: Elizabeth-Jane Newson might have multiple aliases: ['Newson', 'Elizabeth-Jane Newson']\n"
     ]
    },
    {
     "name": "stderr",
     "output_type": "stream",
     "text": [
      "\r",
      " 94%|█████████▎| 1392/1486 [10:46<01:47,  1.14s/it]"
     ]
    },
    {
     "name": "stdout",
     "output_type": "stream",
     "text": [
      "WARNING: Elizabeth-Jane Newson might have multiple aliases: ['Newson', 'Elizabeth-Jane Newson']\n"
     ]
    },
    {
     "name": "stderr",
     "output_type": "stream",
     "text": [
      "\r",
      " 94%|█████████▍| 1394/1486 [10:46<01:18,  1.18it/s]"
     ]
    },
    {
     "name": "stdout",
     "output_type": "stream",
     "text": [
      "WARNING: Elizabeth-Jane Newson might have multiple aliases: ['Newson', 'Elizabeth-Jane Newson']\n",
      "WARNING: Elizabeth-Jane Newson might have multiple aliases: ['Newson', 'Elizabeth-Jane Newson']\n",
      "WARNING: Elizabeth-Jane Newson might have multiple aliases: ['Newson', 'Elizabeth-Jane Newson']\n"
     ]
    },
    {
     "name": "stderr",
     "output_type": "stream",
     "text": [
      "\r",
      " 94%|█████████▍| 1397/1486 [10:46<00:53,  1.65it/s]"
     ]
    },
    {
     "name": "stdout",
     "output_type": "stream",
     "text": [
      "WARNING: Elizabeth-Jane Newson might have multiple aliases: ['Newson', 'Elizabeth-Jane Newson']\n",
      "WARNING: Elizabeth-Jane Newson might have multiple aliases: ['Newson', 'Elizabeth-Jane Newson']\n",
      "WARNING: Elizabeth-Jane Newson might have multiple aliases: ['Newson', 'Elizabeth-Jane Newson']\n",
      "WARNING: Elizabeth-Jane Newson might have multiple aliases: ['Newson', 'Elizabeth-Jane Newson']\n",
      "WARNING: Elizabeth-Jane Newson might have multiple aliases: ['Newson', 'Elizabeth-Jane Newson']\n",
      "WARNING: Elizabeth-Jane Newson might have multiple aliases: ['Newson', 'Elizabeth-Jane Newson']\n"
     ]
    },
    {
     "name": "stderr",
     "output_type": "stream",
     "text": [
      " 95%|█████████▍| 1406/1486 [10:47<00:25,  3.15it/s]"
     ]
    },
    {
     "name": "stdout",
     "output_type": "stream",
     "text": [
      "WARNING: Elizabeth-Jane Newson might have multiple aliases: ['Newson', 'Elizabeth-Jane Newson']\n",
      "WARNING: Elizabeth-Jane Newson might have multiple aliases: ['Newson', 'Elizabeth-Jane Newson']\n",
      "WARNING: Elizabeth-Jane Newson might have multiple aliases: ['Newson', 'Elizabeth-Jane Newson']\n",
      "WARNING: Elizabeth-Jane Newson might have multiple aliases: ['Newson', 'Elizabeth-Jane Newson']\n"
     ]
    },
    {
     "name": "stderr",
     "output_type": "stream",
     "text": [
      "100%|██████████| 1486/1486 [11:11<00:00,  2.21it/s]\n"
     ]
    },
    {
     "data": {
      "text/plain": [
       "'Done'"
      ]
     },
     "execution_count": 94,
     "metadata": {},
     "output_type": "execute_result"
    }
   ],
   "source": [
    "# This was supposed to be a separate incapsulated fn, but I forgot about it 😅\n",
    "X = all_X # selecting subset \n",
    "xs = X.to_dict(orient='records')\n",
    "\n",
    "all_paragraphs = []\n",
    "paragraphs_mapping = col.defaultdict(str)\n",
    "present_chars_mapping = {}\n",
    "books_to_paragraphs_ids = col.defaultdict(dict)\n",
    "\n",
    "for x in tqdm(xs):\n",
    "\n",
    "    book_name = x['book_name']\n",
    "    char_1 = x['char_1']\n",
    "    char_2 = x['char_2']\n",
    "\n",
    "    book = book_mapping[book_name]\n",
    "    if not book in present_chars_mapping:\n",
    "        present_chars = get_meaningful_chars(book)\n",
    "        present_chars_mapping[book] = present_chars\n",
    "    else:\n",
    "        present_chars = present_chars_mapping[book]\n",
    "\n",
    "    proper_subset = X[X['book_name'] == book_name]\n",
    "    annotated_chars = pd.concat([proper_subset['char_1'], proper_subset['char_2']]).unique()\n",
    "\n",
    "    char_1_obj = None\n",
    "    char_2_obj = None\n",
    "    for char in present_chars:\n",
    "        annotated_name = bu.book_name_to_annotated_name(book.name, char, annotated_chars, False) \n",
    "        if annotated_name and annotated_name == char_1:\n",
    "            char_1_obj = char\n",
    "        elif annotated_name and annotated_name == char_2:\n",
    "            char_2_obj = char\n",
    "    if not char_1_obj and not char_2_obj:\n",
    "#         print(f\"Warning: could not find {char_1} & {char_2} for {book_name}\")\n",
    "        continue\n",
    "    elif not char_1_obj:\n",
    "#         print(f\"Warning: could not find {char_1} for {book_name}\")\n",
    "        continue\n",
    "    elif not char_2_obj:\n",
    "#         print(f\"Warning: could not find {char_2} for {book_name}\")\n",
    "        continue\n",
    "    if not book in books_to_paragraphs_ids:\n",
    "        for p in book.paragraphs:\n",
    "            chars = frozenset(p[p['characterId'] > 0 ]['characterId'].unique())\n",
    "            if chars not in books_to_paragraphs_ids[book]:\n",
    "                books_to_paragraphs_ids[book][chars] = list()\n",
    "            id = p['paragraphId'].unique()[0]\n",
    "            books_to_paragraphs_ids[book][chars].append(id)\n",
    "    for charset in books_to_paragraphs_ids[book]:\n",
    "        if char_1_obj['id'] in charset and char_2_obj['id'] in charset:\n",
    "            paragraphIds = books_to_paragraphs_ids[book][charset]\n",
    "            p_tokens = book.tokens[(book.tokens['paragraphId'].isin(paragraphIds)) & (book.tokens['characterId'] == -1)]\n",
    "            # sentence = ' '.join([str(i) for i in p_tokens['originalWord'].ravel()])\n",
    "            all_words = ' '.join([stemmer.stem(str(i)) for i in p_tokens['normalizedWord'].ravel()])\n",
    "            all_paragraphs.append(all_words)\n",
    "            paragraphs_mapping[f\"{book_name}_{char_1}_{char_2}\"] += all_words\n",
    "\"Done\""
   ]
  },
  {
   "cell_type": "code",
   "execution_count": 144,
   "metadata": {},
   "outputs": [],
   "source": [
    "class LoyalCountVectorizer(CountVectorizer):\n",
    "    def __init__(self, *args, **kwargs):\n",
    "        super(LoyalCountVectorizer, self).__init__(*args, **kwargs)\n",
    "        self._was_it_fitted = False\n",
    "    def fit(self, *args, **kwargs):\n",
    "        if self._was_it_fitted:\n",
    "            return self\n",
    "        else:\n",
    "            super(LoyalCountVectorizer, self).fit(*args, **kwargs)\n",
    "            self._was_it_fitted = True"
   ]
  },
  {
   "cell_type": "code",
   "execution_count": 123,
   "metadata": {},
   "outputs": [],
   "source": [
    "class ParagraphMapper(TransformerMixin):\n",
    "    def __init__(self, paragraphs_mapping):\n",
    "        self.paragraphs_mapping = paragraphs_mapping\n",
    "    \n",
    "    def transform(self, X, *_):\n",
    "        result = []\n",
    "        for x in X.to_dict(orient='records'):\n",
    "            book_name = x['book_name']\n",
    "            char_1 = x['char_1']\n",
    "            char_2 = x['char_2']\n",
    "            key = f\"{book_name}_{char_1}_{char_2}\"\n",
    "            if key in paragraphs_mapping:\n",
    "                paragraphs = paragraphs_mapping[key]\n",
    "            else:\n",
    "                paragraphs = \"\"\n",
    "            result.append(paragraphs)\n",
    "        return result\n",
    "    \n",
    "    def fit(self, *_):\n",
    "        return self"
   ]
  },
  {
   "cell_type": "code",
   "execution_count": 216,
   "metadata": {},
   "outputs": [],
   "source": [
    "vectorizer = CountVectorizer()\n",
    "# vectorizer = TfidfVectorizer()"
   ]
  },
  {
   "cell_type": "code",
   "execution_count": 217,
   "metadata": {},
   "outputs": [
    {
     "data": {
      "text/plain": [
       "CountVectorizer(analyzer='word', binary=False, decode_error='strict',\n",
       "        dtype=<class 'numpy.int64'>, encoding='utf-8', input='content',\n",
       "        lowercase=True, max_df=1.0, max_features=None, min_df=1,\n",
       "        ngram_range=(1, 1), preprocessor=None, stop_words=None,\n",
       "        strip_accents=None, token_pattern='(?u)\\\\b\\\\w\\\\w+\\\\b',\n",
       "        tokenizer=None, vocabulary=None)"
      ]
     },
     "execution_count": 217,
     "metadata": {},
     "output_type": "execute_result"
    }
   ],
   "source": [
    "vectorizer.fit(all_paragraphs)"
   ]
  },
  {
   "cell_type": "code",
   "execution_count": 218,
   "metadata": {},
   "outputs": [],
   "source": [
    "mapper = ParagraphMapper(paragraphs_mapping)"
   ]
  },
  {
   "cell_type": "code",
   "execution_count": 219,
   "metadata": {},
   "outputs": [],
   "source": [
    "vected = X_train_vect = vectorizer.transform(mapper.transform(X_train_aff))\n",
    "X_test_vect = vectorizer.transform(mapper.transform(X_test_aff))"
   ]
  },
  {
   "cell_type": "code",
   "execution_count": 220,
   "metadata": {},
   "outputs": [
    {
     "data": {
      "text/plain": [
       "((995, 24082), (995,))"
      ]
     },
     "execution_count": 220,
     "metadata": {},
     "output_type": "execute_result"
    }
   ],
   "source": [
    "scipy.sparse.vstack(X_train_vect).shape, y_train_aff.shape"
   ]
  },
  {
   "cell_type": "code",
   "execution_count": 221,
   "metadata": {},
   "outputs": [
    {
     "data": {
      "text/plain": [
       "((995, 24082), (995,))"
      ]
     },
     "execution_count": 221,
     "metadata": {},
     "output_type": "execute_result"
    }
   ],
   "source": [
    "vected.shape, y_train_aff.shape"
   ]
  },
  {
   "cell_type": "code",
   "execution_count": 222,
   "metadata": {},
   "outputs": [],
   "source": [
    "def report(cross_scores):\n",
    "    for mode in ['test', 'train']:\n",
    "        print(f'On {mode} ', end='')\n",
    "        for metric in ['precision', 'recall', 'f1']:\n",
    "            nums = cross_scores[f'{mode}_{metric}_macro']\n",
    "            print(f' avg {metric}: {avg(nums):.2f} ± {np.std(nums):.2f}', end = '')\n",
    "        print('')"
   ]
  },
  {
   "cell_type": "code",
   "execution_count": null,
   "metadata": {},
   "outputs": [],
   "source": [
    "# Poor mans grid search cv, which I cannot use because of need to fit countvectorizer on whole dataset\n",
    "res = []\n",
    "X = X_train_aff\n",
    "y = y_train_aff.map(score_to_label)\n",
    "paragraph_mapper = ParagraphMapper(paragraphs_mapping)\n",
    "for max_df in np.arange(0.5, 1.0, 0.10):\n",
    "    for min_df in np.arange(0.0, 0.3, 0.05):\n",
    "        vectorizer = CountVectorizer(min_df=min_df,max_df=max_df)\n",
    "        vectorizer.fit(all_paragraphs)\n",
    "        X_vec = vectorizer.transform(paragraph_mapper.transform(X))\n",
    "        for c in np.arange(1.0, 0.1, -0.05):\n",
    "            predictor = LogisticRegression(C=c)\n",
    "            scores = cross_validate(predictor, X_vec, y, scoring=['precision_macro', 'recall_macro', 'f1_macro'], cv=5)\n",
    "            res.append({\n",
    "                **scores,\n",
    "                'max_df': max_df,\n",
    "                'min_df': min_df,\n",
    "                'c': c\n",
    "            })\n",
    "            print(f'max_df={max_df}, min_df={min_df}, c={c}')\n",
    "            report(scores)\n",
    "\"DONE\""
   ]
  },
  {
   "cell_type": "code",
   "execution_count": 164,
   "metadata": {},
   "outputs": [],
   "source": [
    "df = pd.DataFrame(res)\n",
    "df['test_f1_macro_avg'] = df['test_f1_macro'].apply(lambda x: avg(x))\n",
    "df['test_precision_macro_avg'] = df['test_precision_macro'].apply(lambda x: avg(x))\n",
    "df['test_recall_macro_avg'] = df['test_recall_macro'].apply(lambda x: avg(x))"
   ]
  },
  {
   "cell_type": "code",
   "execution_count": 169,
   "metadata": {},
   "outputs": [
    {
     "data": {
      "text/html": [
       "<div>\n",
       "<style scoped>\n",
       "    .dataframe tbody tr th:only-of-type {\n",
       "        vertical-align: middle;\n",
       "    }\n",
       "\n",
       "    .dataframe tbody tr th {\n",
       "        vertical-align: top;\n",
       "    }\n",
       "\n",
       "    .dataframe thead th {\n",
       "        text-align: right;\n",
       "    }\n",
       "</style>\n",
       "<table border=\"1\" class=\"dataframe\">\n",
       "  <thead>\n",
       "    <tr style=\"text-align: right;\">\n",
       "      <th></th>\n",
       "      <th>fit_time</th>\n",
       "      <th>score_time</th>\n",
       "      <th>test_f1_macro</th>\n",
       "      <th>test_precision_macro</th>\n",
       "      <th>test_recall_macro</th>\n",
       "      <th>train_f1_macro</th>\n",
       "      <th>train_precision_macro</th>\n",
       "      <th>train_recall_macro</th>\n",
       "      <th>0.5</th>\n",
       "      <th>0.0</th>\n",
       "      <th>...</th>\n",
       "      <th>0.1</th>\n",
       "      <th>0.15000000000000002</th>\n",
       "      <th>0.2</th>\n",
       "      <th>0.25</th>\n",
       "      <th>0.6</th>\n",
       "      <th>0.7</th>\n",
       "      <th>0.7999999999999999</th>\n",
       "      <th>test_f1_macro_avg</th>\n",
       "      <th>test_precision_macro_avg</th>\n",
       "      <th>test_recall_macro_avg</th>\n",
       "    </tr>\n",
       "  </thead>\n",
       "  <tbody>\n",
       "    <tr>\n",
       "      <th>108</th>\n",
       "      <td>[1.9239139556884766, 1.767948865890503, 1.1202...</td>\n",
       "      <td>[0.004732847213745117, 0.004426240921020508, 0...</td>\n",
       "      <td>[0.39379567154197753, 0.36073313602170426, 0.2...</td>\n",
       "      <td>[0.47922046867527496, 0.4437451437451438, 0.30...</td>\n",
       "      <td>[0.4050747419835334, 0.37751425380591314, 0.31...</td>\n",
       "      <td>[0.7233300810739444, 0.73429347371732, 0.71696...</td>\n",
       "      <td>[0.8972654408297972, 0.8992103108575655, 0.898...</td>\n",
       "      <td>[0.6721192185007974, 0.6834675621860976, 0.665...</td>\n",
       "      <td>NaN</td>\n",
       "      <td>0.0</td>\n",
       "      <td>...</td>\n",
       "      <td>NaN</td>\n",
       "      <td>NaN</td>\n",
       "      <td>NaN</td>\n",
       "      <td>NaN</td>\n",
       "      <td>0.6</td>\n",
       "      <td>NaN</td>\n",
       "      <td>NaN</td>\n",
       "      <td>0.352420</td>\n",
       "      <td>0.407043</td>\n",
       "      <td>0.367853</td>\n",
       "    </tr>\n",
       "    <tr>\n",
       "      <th>109</th>\n",
       "      <td>[1.7611210346221924, 1.6658039093017578, 1.135...</td>\n",
       "      <td>[0.0057070255279541016, 0.004531145095825195, ...</td>\n",
       "      <td>[0.39379567154197753, 0.3690474238075714, 0.28...</td>\n",
       "      <td>[0.47922046867527496, 0.44902861366276, 0.2997...</td>\n",
       "      <td>[0.4050747419835334, 0.3838035619820137, 0.312...</td>\n",
       "      <td>[0.7233300810739444, 0.73429347371732, 0.71696...</td>\n",
       "      <td>[0.8972654408297972, 0.8992103108575655, 0.898...</td>\n",
       "      <td>[0.6721192185007974, 0.6834675621860976, 0.665...</td>\n",
       "      <td>NaN</td>\n",
       "      <td>0.0</td>\n",
       "      <td>...</td>\n",
       "      <td>NaN</td>\n",
       "      <td>NaN</td>\n",
       "      <td>NaN</td>\n",
       "      <td>NaN</td>\n",
       "      <td>0.6</td>\n",
       "      <td>NaN</td>\n",
       "      <td>NaN</td>\n",
       "      <td>0.351774</td>\n",
       "      <td>0.405775</td>\n",
       "      <td>0.367444</td>\n",
       "    </tr>\n",
       "    <tr>\n",
       "      <th>5</th>\n",
       "      <td>[2.2646758556365967, 1.9434220790863037, 1.378...</td>\n",
       "      <td>[0.005259990692138672, 0.004375934600830078, 0...</td>\n",
       "      <td>[0.39379567154197753, 0.3600762205138314, 0.29...</td>\n",
       "      <td>[0.47922046867527496, 0.41692242114237005, 0.3...</td>\n",
       "      <td>[0.4050747419835334, 0.3744577675894904, 0.315...</td>\n",
       "      <td>[0.7216393159084681, 0.7326001080517197, 0.716...</td>\n",
       "      <td>[0.8968497866768047, 0.8987882272765993, 0.898...</td>\n",
       "      <td>[0.670524322169059, 0.6818726658543591, 0.6659...</td>\n",
       "      <td>0.5</td>\n",
       "      <td>0.0</td>\n",
       "      <td>...</td>\n",
       "      <td>NaN</td>\n",
       "      <td>NaN</td>\n",
       "      <td>NaN</td>\n",
       "      <td>NaN</td>\n",
       "      <td>NaN</td>\n",
       "      <td>NaN</td>\n",
       "      <td>NaN</td>\n",
       "      <td>0.351560</td>\n",
       "      <td>0.400474</td>\n",
       "      <td>0.366228</td>\n",
       "    </tr>\n",
       "    <tr>\n",
       "      <th>3</th>\n",
       "      <td>[2.0667049884796143, 1.608933925628662, 1.1960...</td>\n",
       "      <td>[0.005140066146850586, 0.0048999786376953125, ...</td>\n",
       "      <td>[0.39379567154197753, 0.35135151159412564, 0.2...</td>\n",
       "      <td>[0.47922046867527496, 0.4101807121130792, 0.31...</td>\n",
       "      <td>[0.4050747419835334, 0.3692396990536648, 0.315...</td>\n",
       "      <td>[0.7216393159084681, 0.7323003502338272, 0.716...</td>\n",
       "      <td>[0.8968497866768047, 0.8988187523071245, 0.898...</td>\n",
       "      <td>[0.670524322169059, 0.6813971688113565, 0.6659...</td>\n",
       "      <td>0.5</td>\n",
       "      <td>0.0</td>\n",
       "      <td>...</td>\n",
       "      <td>NaN</td>\n",
       "      <td>NaN</td>\n",
       "      <td>NaN</td>\n",
       "      <td>NaN</td>\n",
       "      <td>NaN</td>\n",
       "      <td>NaN</td>\n",
       "      <td>NaN</td>\n",
       "      <td>0.351546</td>\n",
       "      <td>0.401793</td>\n",
       "      <td>0.366467</td>\n",
       "    </tr>\n",
       "    <tr>\n",
       "      <th>1</th>\n",
       "      <td>[2.1497581005096436, 1.8029890060424805, 1.299...</td>\n",
       "      <td>[0.004848957061767578, 0.004930019378662109, 0...</td>\n",
       "      <td>[0.39379567154197753, 0.3513031334555294, 0.29...</td>\n",
       "      <td>[0.47922046867527496, 0.4059022818613611, 0.31...</td>\n",
       "      <td>[0.4050747419835334, 0.36816845941338977, 0.31...</td>\n",
       "      <td>[0.7216393159084681, 0.73429347371732, 0.71696...</td>\n",
       "      <td>[0.8968497866768047, 0.8992103108575655, 0.898...</td>\n",
       "      <td>[0.670524322169059, 0.6834675621860976, 0.6659...</td>\n",
       "      <td>0.5</td>\n",
       "      <td>0.0</td>\n",
       "      <td>...</td>\n",
       "      <td>NaN</td>\n",
       "      <td>NaN</td>\n",
       "      <td>NaN</td>\n",
       "      <td>NaN</td>\n",
       "      <td>NaN</td>\n",
       "      <td>NaN</td>\n",
       "      <td>NaN</td>\n",
       "      <td>0.351537</td>\n",
       "      <td>0.400937</td>\n",
       "      <td>0.366252</td>\n",
       "    </tr>\n",
       "  </tbody>\n",
       "</table>\n",
       "<p>5 rows × 39 columns</p>\n",
       "</div>"
      ],
      "text/plain": [
       "                                              fit_time  \\\n",
       "108  [1.9239139556884766, 1.767948865890503, 1.1202...   \n",
       "109  [1.7611210346221924, 1.6658039093017578, 1.135...   \n",
       "5    [2.2646758556365967, 1.9434220790863037, 1.378...   \n",
       "3    [2.0667049884796143, 1.608933925628662, 1.1960...   \n",
       "1    [2.1497581005096436, 1.8029890060424805, 1.299...   \n",
       "\n",
       "                                            score_time  \\\n",
       "108  [0.004732847213745117, 0.004426240921020508, 0...   \n",
       "109  [0.0057070255279541016, 0.004531145095825195, ...   \n",
       "5    [0.005259990692138672, 0.004375934600830078, 0...   \n",
       "3    [0.005140066146850586, 0.0048999786376953125, ...   \n",
       "1    [0.004848957061767578, 0.004930019378662109, 0...   \n",
       "\n",
       "                                         test_f1_macro  \\\n",
       "108  [0.39379567154197753, 0.36073313602170426, 0.2...   \n",
       "109  [0.39379567154197753, 0.3690474238075714, 0.28...   \n",
       "5    [0.39379567154197753, 0.3600762205138314, 0.29...   \n",
       "3    [0.39379567154197753, 0.35135151159412564, 0.2...   \n",
       "1    [0.39379567154197753, 0.3513031334555294, 0.29...   \n",
       "\n",
       "                                  test_precision_macro  \\\n",
       "108  [0.47922046867527496, 0.4437451437451438, 0.30...   \n",
       "109  [0.47922046867527496, 0.44902861366276, 0.2997...   \n",
       "5    [0.47922046867527496, 0.41692242114237005, 0.3...   \n",
       "3    [0.47922046867527496, 0.4101807121130792, 0.31...   \n",
       "1    [0.47922046867527496, 0.4059022818613611, 0.31...   \n",
       "\n",
       "                                     test_recall_macro  \\\n",
       "108  [0.4050747419835334, 0.37751425380591314, 0.31...   \n",
       "109  [0.4050747419835334, 0.3838035619820137, 0.312...   \n",
       "5    [0.4050747419835334, 0.3744577675894904, 0.315...   \n",
       "3    [0.4050747419835334, 0.3692396990536648, 0.315...   \n",
       "1    [0.4050747419835334, 0.36816845941338977, 0.31...   \n",
       "\n",
       "                                        train_f1_macro  \\\n",
       "108  [0.7233300810739444, 0.73429347371732, 0.71696...   \n",
       "109  [0.7233300810739444, 0.73429347371732, 0.71696...   \n",
       "5    [0.7216393159084681, 0.7326001080517197, 0.716...   \n",
       "3    [0.7216393159084681, 0.7323003502338272, 0.716...   \n",
       "1    [0.7216393159084681, 0.73429347371732, 0.71696...   \n",
       "\n",
       "                                 train_precision_macro  \\\n",
       "108  [0.8972654408297972, 0.8992103108575655, 0.898...   \n",
       "109  [0.8972654408297972, 0.8992103108575655, 0.898...   \n",
       "5    [0.8968497866768047, 0.8987882272765993, 0.898...   \n",
       "3    [0.8968497866768047, 0.8988187523071245, 0.898...   \n",
       "1    [0.8968497866768047, 0.8992103108575655, 0.898...   \n",
       "\n",
       "                                    train_recall_macro  0.5  0.0  \\\n",
       "108  [0.6721192185007974, 0.6834675621860976, 0.665...  NaN  0.0   \n",
       "109  [0.6721192185007974, 0.6834675621860976, 0.665...  NaN  0.0   \n",
       "5    [0.670524322169059, 0.6818726658543591, 0.6659...  0.5  0.0   \n",
       "3    [0.670524322169059, 0.6813971688113565, 0.6659...  0.5  0.0   \n",
       "1    [0.670524322169059, 0.6834675621860976, 0.6659...  0.5  0.0   \n",
       "\n",
       "             ...            0.1  0.15000000000000002  0.2  0.25  0.6  0.7  \\\n",
       "108          ...            NaN                  NaN  NaN   NaN  0.6  NaN   \n",
       "109          ...            NaN                  NaN  NaN   NaN  0.6  NaN   \n",
       "5            ...            NaN                  NaN  NaN   NaN  NaN  NaN   \n",
       "3            ...            NaN                  NaN  NaN   NaN  NaN  NaN   \n",
       "1            ...            NaN                  NaN  NaN   NaN  NaN  NaN   \n",
       "\n",
       "     0.7999999999999999  test_f1_macro_avg  test_precision_macro_avg  \\\n",
       "108                 NaN           0.352420                  0.407043   \n",
       "109                 NaN           0.351774                  0.405775   \n",
       "5                   NaN           0.351560                  0.400474   \n",
       "3                   NaN           0.351546                  0.401793   \n",
       "1                   NaN           0.351537                  0.400937   \n",
       "\n",
       "     test_recall_macro_avg  \n",
       "108               0.367853  \n",
       "109               0.367444  \n",
       "5                 0.366228  \n",
       "3                 0.366467  \n",
       "1                 0.366252  \n",
       "\n",
       "[5 rows x 39 columns]"
      ]
     },
     "execution_count": 169,
     "metadata": {},
     "output_type": "execute_result"
    }
   ],
   "source": [
    "df.sort_values('test_f1_macro_avg', ascending=False).head(5)"
   ]
  },
  {
   "cell_type": "code",
   "execution_count": 223,
   "metadata": {
    "scrolled": true
   },
   "outputs": [
    {
     "name": "stdout",
     "output_type": "stream",
     "text": [
      "On test  avg precision: 0.41 ± 0.05 avg recall: 0.37 ± 0.02 avg f1: 0.35 ± 0.03\n",
      "On train  avg precision: 0.90 ± 0.00 avg recall: 0.67 ± 0.01 avg f1: 0.72 ± 0.01\n"
     ]
    },
    {
     "name": "stderr",
     "output_type": "stream",
     "text": [
      "/usr/local/lib/python3.6/site-packages/sklearn/utils/deprecation.py:122: FutureWarning: You are accessing a training score ('train_precision_macro'), which will not be available by default any more in 0.21. If you need training scores, please set return_train_score=True\n",
      "  warnings.warn(*warn_args, **warn_kwargs)\n",
      "/usr/local/lib/python3.6/site-packages/sklearn/utils/deprecation.py:122: FutureWarning: You are accessing a training score ('train_recall_macro'), which will not be available by default any more in 0.21. If you need training scores, please set return_train_score=True\n",
      "  warnings.warn(*warn_args, **warn_kwargs)\n",
      "/usr/local/lib/python3.6/site-packages/sklearn/utils/deprecation.py:122: FutureWarning: You are accessing a training score ('train_f1_macro'), which will not be available by default any more in 0.21. If you need training scores, please set return_train_score=True\n",
      "  warnings.warn(*warn_args, **warn_kwargs)\n"
     ]
    }
   ],
   "source": [
    "affinity_pred = LogisticRegression()\n",
    "scores = cross_validate(affinity_pred, X_train_vect, y_train_aff.map(score_to_label), scoring=['precision_macro', 'recall_macro', 'f1_macro'], cv=5)\n",
    "report(scores)"
   ]
  },
  {
   "cell_type": "code",
   "execution_count": 224,
   "metadata": {},
   "outputs": [
    {
     "name": "stdout",
     "output_type": "stream",
     "text": [
      "             precision    recall  f1-score   support\n",
      "\n",
      "   negative       0.31      0.15      0.20       262\n",
      "    neutral       0.35      0.16      0.22       201\n",
      "   positive       0.54      0.80      0.64       532\n",
      "\n",
      "avg / total       0.44      0.50      0.44       995\n",
      "\n"
     ]
    }
   ],
   "source": [
    "y_predicted_cv = cross_val_predict(affinity_pred, X_train_vect, y_train_aff.map(score_to_label), cv=5)\n",
    "print(metrics.classification_report(y_train_aff.map(score_to_label), y_predicted_cv))"
   ]
  },
  {
   "cell_type": "markdown",
   "metadata": {},
   "source": [
    "One of the first results (taking original words, no filtering, taking whole paragraphs)\n",
    "```\n",
    "             precision    recall  f1-score   support\n",
    "\n",
    "   negative       0.27      0.11      0.16       141\n",
    "    neutral       0.30      0.10      0.14       115\n",
    "   positive       0.49      0.83      0.62       235\n",
    "\n",
    "avg / total       0.38      0.45      0.38       491\n",
    "\n",
    "```\n",
    "Compared to baseline (but 'trained' on whole dataset):\n",
    "```\n",
    "             precision    recall  f1-score   support\n",
    "\n",
    "   negative       0.34      0.11      0.17       397\n",
    "    neutral       0.22      0.87      0.36       313\n",
    "   positive       0.61      0.09      0.16       759\n",
    "\n",
    "avg / total       0.46      0.26      0.20      1469\n",
    "```\n",
    "this one actually learns something unlike dummy lookup table which means it at least superior at that. Training performance is way better, and if we compare test performance, well, here we get a smaller precision, but better recall, and overall f1 score is almost twice bigger.\n",
    "And also, I'm going to do cross-validation from this point onwards, to set aside test to use as validation (which I forgot to do earlier)."
   ]
  },
  {
   "cell_type": "markdown",
   "metadata": {},
   "source": [
    "🚫 I initially used tf-idf vectorizers with originalWords, but it yielded way worse results. Assuming this was because unnormalized paragraph length and 'wide' vocabulary. I also tried it with some other cases (the one with stems and non-chars tokens only) with similar level of performance (0.18 ± 0.00 avg recall: 0.33 ± 0.00 avg f1: 0.23 ± 0.00 - and ony predicting positive for test set)\n",
    "\n",
    "**Taking lemmas** yields following results on cross_validation & report from cross_predict:\n",
    "``` \n",
    "On test  avg precision: 0.40 ± 0.06 avg recall: 0.36 ± 0.04 avg f1: 0.35 ± 0.04\n",
    "On train  avg precision: 0.90 ± 0.00 avg recall: 0.68 ± 0.01 avg f1: 0.73 ± 0.01\n",
    "             precision    recall  f1-score   support\n",
    "\n",
    "   negative       0.35      0.16      0.22       262\n",
    "    neutral       0.30      0.15      0.20       201\n",
    "   positive       0.53      0.78      0.63       532\n",
    "\n",
    "avg / total       0.44      0.49      0.44       995\n",
    "```\n",
    "✅ This one is better on both precision and recall.\n",
    "\n",
    "Following step: **use stemms**\n",
    "```\n",
    "On test  avg precision: 0.41 ± 0.06 avg recall: 0.37 ± 0.04 avg f1: 0.36 ± 0.04\n",
    "On train  avg precision: 0.90 ± 0.00 avg recall: 0.68 ± 0.01 avg f1: 0.73 ± 0.01\n",
    "             precision    recall  f1-score   support\n",
    "\n",
    "   negative       0.36      0.16      0.23       262\n",
    "    neutral       0.33      0.16      0.22       201\n",
    "   positive       0.54      0.79      0.64       532\n",
    "\n",
    "avg / total       0.45      0.50      0.45       995\n",
    "```\n",
    "✅ Slightly better. Assumption here was that reducing feature space + same stems yielding similar concepts might imrpove model.\n",
    "\n",
    "Following step: **keep non-chars tokens only**\n",
    "\n",
    "If I remove char tokens I'll get:\n",
    "```\n",
    "On test  avg precision: 0.41 ± 0.03 avg recall: 0.37 ± 0.02 avg f1: 0.36 ± 0.03\n",
    "On train  avg precision: 0.90 ± 0.00 avg recall: 0.68 ± 0.01 avg f1: 0.73 ± 0.01\n",
    "             precision    recall  f1-score   support\n",
    "\n",
    "   negative       0.34      0.16      0.21       262\n",
    "    neutral       0.34      0.15      0.21       201\n",
    "   positive       0.54      0.80      0.65       532\n",
    "\n",
    "avg / total       0.45      0.50      0.44       995\n",
    "\n",
    "```\n",
    "❓seems to have smaller std on test. But also, we see that positive class seems to work better, yet negative / neutral slightly degenerates.\n",
    "Hypotheses here (compared to previous values):\n",
    "\n",
    "1. we were overfitting on character to predict relations\n",
    "2. character stem was indicative of what type of relations there might be\n",
    "\n",
    "First one would be mitigated by limiting dictionary size, ensuring we only get frequent enough words (although it might be that all the Bills across all the books are almost always evil or something)\n",
    "\n",
    "🚫 Following step: **keep tokens BETWEEN characters only +- some window **\n",
    "\n",
    "Initial try yielded worse results (pr - 0.40, re - 0.48, f1 - 0.41), which might be caused by issue in implementation or the fact that characters are mismatching and multiple bookNLP represent single character, yet we are unknowingly throw away that data. Updating max-distance param to 45 didn't improve the result compared to previous steps (pr - 0.39, re - 0.46, f1 - 0.40), yet pruning extra words and throwing away looong paragraphs that are talking about every possible character in the book should improve (I guess) our model."
   ]
  },
  {
   "cell_type": "markdown",
   "metadata": {},
   "source": [
    "Let's try to **tune CountVectorizer's and LogReg parameters**  \n",
    "🚫 Okay, running some grid search resulted in way worse results that those without any tuning. This might be\n",
    "\n",
    "1. due to signal being wide spread and maxdf/mindf being too restrictive and cutting vocabulary word inclusions too hight or too low (meaning average widespread words are non-indicative)\n",
    "2. bag of word capturing stylistic things of authors writing (not sure this would be messing up results that bad)\n",
    "3. we are actually already overfit on testing\n",
    "\n",
    "I assume that's it for this model on this level of data cleanliness"
   ]
  },
  {
   "cell_type": "markdown",
   "metadata": {},
   "source": [
    "### BOW + kNNClassifier"
   ]
  },
  {
   "cell_type": "code",
   "execution_count": 174,
   "metadata": {},
   "outputs": [],
   "source": [
    "X = X_train_aff\n",
    "y = y_train_aff.map(score_to_label)\n",
    "vectorizer = CountVectorizer()\n",
    "vectorizer.fit(all_paragraphs)\n",
    "X_vec = vectorizer.transform(paragraph_mapper.transform(X))"
   ]
  },
  {
   "cell_type": "code",
   "execution_count": 186,
   "metadata": {},
   "outputs": [],
   "source": [
    "col_map = {\n",
    "    'negative': 'red',\n",
    "    'neutral': 'yellow',\n",
    "    'positive': 'green'\n",
    "}\n",
    "colors = y.map(lambda val: col_map[val])"
   ]
  },
  {
   "cell_type": "code",
   "execution_count": 188,
   "metadata": {},
   "outputs": [
    {
     "name": "stdout",
     "output_type": "stream",
     "text": [
      "[t-SNE] Computing 121 nearest neighbors...\n",
      "[t-SNE] Indexed 995 samples in 0.561s...\n",
      "[t-SNE] Computed neighbors for 995 samples in 18.167s...\n",
      "[t-SNE] Computed conditional probabilities for sample 995 / 995\n",
      "[t-SNE] Mean sigma: 0.000000\n",
      "[t-SNE] KL divergence after 250 iterations with early exaggeration: 60.558315\n",
      "[t-SNE] Error after 300 iterations: 0.743109\n"
     ]
    },
    {
     "data": {
      "text/plain": [
       "<matplotlib.collections.PathCollection at 0x1bb299c88>"
      ]
     },
     "execution_count": 188,
     "metadata": {},
     "output_type": "execute_result"
    },
    {
     "data": {
      "image/png": "[encoded data removed]",
      "text/plain": [
       "<matplotlib.figure.Figure at 0x1bab89eb8>"
      ]
     },
     "metadata": {},
     "output_type": "display_data"
    }
   ],
   "source": [
    "import numpy as np\n",
    "from matplotlib import pyplot as plt\n",
    "%matplotlib inline\n",
    "from sklearn.manifold import TSNE\n",
    "\n",
    "tsne = TSNE(n_components=2, verbose=1, perplexity=40, n_iter=300)\n",
    "tsne_results = tsne.fit_transform(X_vec.toarray())\n",
    "\n",
    "# plot the result\n",
    "vis_x = tsne_results[:, 0]\n",
    "vis_y = tsne_results[:, 1]\n",
    "\n",
    "plt.figure(figsize=(10, 5))\n",
    "plt.subplot(121)\n",
    "plt.scatter(vis_x, vis_y, c=colors)"
   ]
  },
  {
   "cell_type": "code",
   "execution_count": 209,
   "metadata": {},
   "outputs": [
    {
     "name": "stdout",
     "output_type": "stream",
     "text": [
      "N: 3 (uniform)\n",
      "On test  avg precision: 0.32 ± 0.04 avg recall: 0.36 ± 0.03 avg f1: 0.30 ± 0.02\n",
      "On train  avg precision: 0.61 ± 0.02 avg recall: 0.48 ± 0.01 avg f1: 0.44 ± 0.01\n",
      "             precision    recall  f1-score   support\n",
      "\n",
      "   negative       0.29      0.67      0.40       262\n",
      "    neutral       0.07      0.01      0.02       201\n",
      "   positive       0.60      0.39      0.47       532\n",
      "\n",
      "avg / total       0.41      0.39      0.36       995\n",
      "\n",
      "N: 3 (distance)\n",
      "On test  avg precision: 0.33 ± 0.04 avg recall: 0.35 ± 0.02 avg f1: 0.31 ± 0.03\n",
      "On train  avg precision: 0.82 ± 0.00 avg recall: 0.71 ± 0.01 avg f1: 0.69 ± 0.01\n",
      "             precision    recall  f1-score   support\n",
      "\n",
      "   negative       0.29      0.62      0.40       262\n",
      "    neutral       0.12      0.04      0.06       201\n",
      "   positive       0.57      0.40      0.47       532\n",
      "\n",
      "avg / total       0.41      0.39      0.37       995\n",
      "\n",
      "N: 4 (uniform)\n",
      "On test  avg precision: 0.34 ± 0.03 avg recall: 0.33 ± 0.02 avg f1: 0.30 ± 0.02\n",
      "On train  avg precision: 0.56 ± 0.03 avg recall: 0.46 ± 0.02 avg f1: 0.45 ± 0.01\n",
      "             precision    recall  f1-score   support\n",
      "\n",
      "   negative       0.27      0.30      0.28       262\n",
      "    neutral       0.18      0.06      0.10       201\n",
      "   positive       0.54      0.64      0.59       532\n",
      "\n",
      "avg / total       0.40      0.43      0.41       995\n",
      "\n",
      "N: 4 (distance)\n",
      "On test  avg precision: 0.35 ± 0.05 avg recall: 0.35 ± 0.03 avg f1: 0.31 ± 0.03\n",
      "On train  avg precision: 0.86 ± 0.04 avg recall: 0.69 ± 0.02 avg f1: 0.71 ± 0.02\n",
      "             precision    recall  f1-score   support\n",
      "\n",
      "   negative       0.28      0.28      0.28       262\n",
      "    neutral       0.20      0.06      0.09       201\n",
      "   positive       0.55      0.69      0.61       532\n",
      "\n",
      "avg / total       0.41      0.46      0.42       995\n",
      "\n",
      "N: 5 (uniform)\n",
      "On test  avg precision: 0.35 ± 0.05 avg recall: 0.35 ± 0.03 avg f1: 0.31 ± 0.03\n",
      "On train  avg precision: 0.53 ± 0.02 avg recall: 0.45 ± 0.02 avg f1: 0.43 ± 0.01\n",
      "             precision    recall  f1-score   support\n",
      "\n",
      "   negative       0.27      0.30      0.29       262\n",
      "    neutral       0.22      0.08      0.12       201\n",
      "   positive       0.55      0.65      0.60       532\n",
      "\n",
      "avg / total       0.41      0.45      0.42       995\n",
      "\n",
      "N: 5 (distance)\n",
      "On test  avg precision: 0.34 ± 0.07 avg recall: 0.34 ± 0.04 avg f1: 0.30 ± 0.04\n",
      "On train  avg precision: 0.86 ± 0.04 avg recall: 0.69 ± 0.02 avg f1: 0.71 ± 0.02\n",
      "             precision    recall  f1-score   support\n",
      "\n",
      "   negative       0.28      0.28      0.28       262\n",
      "    neutral       0.18      0.04      0.07       201\n",
      "   positive       0.55      0.70      0.61       532\n",
      "\n",
      "avg / total       0.40      0.46      0.42       995\n",
      "\n",
      "N: 6 (uniform)\n",
      "On test  avg precision: 0.34 ± 0.04 avg recall: 0.34 ± 0.01 avg f1: 0.29 ± 0.02\n",
      "On train  avg precision: 0.53 ± 0.02 avg recall: 0.42 ± 0.02 avg f1: 0.40 ± 0.01\n",
      "             precision    recall  f1-score   support\n",
      "\n",
      "   negative       0.27      0.22      0.24       262\n",
      "    neutral       0.22      0.04      0.07       201\n",
      "   positive       0.54      0.75      0.62       532\n",
      "\n",
      "avg / total       0.40      0.47      0.41       995\n",
      "\n",
      "N: 6 (distance)\n",
      "On test  avg precision: 0.34 ± 0.02 avg recall: 0.34 ± 0.00 avg f1: 0.29 ± 0.01\n",
      "On train  avg precision: 0.88 ± 0.03 avg recall: 0.68 ± 0.02 avg f1: 0.72 ± 0.01\n",
      "             precision    recall  f1-score   support\n",
      "\n",
      "   negative       0.28      0.19      0.23       262\n",
      "    neutral       0.19      0.04      0.07       201\n",
      "   positive       0.54      0.78      0.63       532\n",
      "\n",
      "avg / total       0.40      0.47      0.41       995\n",
      "\n",
      "N: 7 (uniform)\n",
      "On test  avg precision: 0.32 ± 0.05 avg recall: 0.35 ± 0.03 avg f1: 0.30 ± 0.03\n",
      "On train  avg precision: 0.49 ± 0.02 avg recall: 0.42 ± 0.02 avg f1: 0.39 ± 0.02\n",
      "             precision    recall  f1-score   support\n",
      "\n",
      "   negative       0.29      0.42      0.34       262\n",
      "    neutral       0.16      0.04      0.07       201\n",
      "   positive       0.55      0.58      0.56       532\n",
      "\n",
      "avg / total       0.40      0.43      0.41       995\n",
      "\n",
      "N: 7 (distance)\n",
      "On test  avg precision: 0.33 ± 0.05 avg recall: 0.35 ± 0.03 avg f1: 0.31 ± 0.03\n",
      "On train  avg precision: 0.85 ± 0.04 avg recall: 0.69 ± 0.02 avg f1: 0.70 ± 0.01\n",
      "             precision    recall  f1-score   support\n",
      "\n",
      "   negative       0.30      0.40      0.34       262\n",
      "    neutral       0.16      0.04      0.06       201\n",
      "   positive       0.56      0.62      0.59       532\n",
      "\n",
      "avg / total       0.41      0.45      0.42       995\n",
      "\n",
      "N: 8 (uniform)\n",
      "On test  avg precision: 0.31 ± 0.02 avg recall: 0.34 ± 0.02 avg f1: 0.29 ± 0.02\n",
      "On train  avg precision: 0.49 ± 0.03 avg recall: 0.41 ± 0.02 avg f1: 0.38 ± 0.02\n",
      "             precision    recall  f1-score   support\n",
      "\n",
      "   negative       0.29      0.40      0.33       262\n",
      "    neutral       0.13      0.03      0.06       201\n",
      "   positive       0.54      0.59      0.56       532\n",
      "\n",
      "avg / total       0.39      0.43      0.40       995\n",
      "\n",
      "N: 8 (distance)\n",
      "On test  avg precision: 0.31 ± 0.04 avg recall: 0.35 ± 0.03 avg f1: 0.29 ± 0.04\n",
      "On train  avg precision: 0.85 ± 0.04 avg recall: 0.69 ± 0.02 avg f1: 0.70 ± 0.01\n",
      "             precision    recall  f1-score   support\n",
      "\n",
      "   negative       0.30      0.39      0.33       262\n",
      "    neutral       0.11      0.02      0.03       201\n",
      "   positive       0.55      0.63      0.59       532\n",
      "\n",
      "avg / total       0.39      0.44      0.41       995\n",
      "\n"
     ]
    }
   ],
   "source": [
    "for n_neighbors in range(3, 9):\n",
    "    for weights in ['uniform', 'distance']:\n",
    "        print(f'N: {n_neighbors} ({weights})')\n",
    "        affinity_pred = KNeighborsClassifier(n_neighbors=n_neighbors, weights=weights)\n",
    "        scores = cross_validate(affinity_pred, X_vec, y_train_aff.map(score_to_label), scoring=['precision_macro', 'recall_macro', 'f1_macro'], cv=5, return_train_score=True)\n",
    "        report(scores)\n",
    "        y_predicted_cv = cross_val_predict(affinity_pred, X_vec, y_train_aff.map(score_to_label), cv=5)\n",
    "        print(metrics.classification_report(y_train_aff.map(score_to_label), y_predicted_cv))"
   ]
  },
  {
   "cell_type": "markdown",
   "metadata": {},
   "source": [
    "Doesn't seem to be imrpove over LogReg, consistently worse performance, which kinda might indicate initial BoW model is not actually representing trends in input data / we are missing quite a lot of chars / each relations is a unique snowflake and uses all the different words every time.\n",
    "\n",
    "Okay, so personal best is LogReg, BoW on stems for words in paragraphs, in which both of characters were mentioned. Let's run this on test set for 'best' kNN (just seemed to be good enough + performance on 'neutral' is not that bad)."
   ]
  },
  {
   "cell_type": "code",
   "execution_count": 233,
   "metadata": {},
   "outputs": [
    {
     "name": "stdout",
     "output_type": "stream",
     "text": [
      "             precision    recall  f1-score   support\n",
      "\n",
      "   negative       0.30      0.63      0.40       141\n",
      "    neutral       0.33      0.05      0.09       115\n",
      "   positive       0.50      0.37      0.43       235\n",
      "\n",
      "avg / total       0.40      0.37      0.34       491\n",
      "\n"
     ]
    }
   ],
   "source": [
    "kNN = KNeighborsClassifier(n_neighbors=6)\n",
    "kNN.fit(X_train_vect, y_train_aff.map(score_to_label))\n",
    "y_predicted = kNN.predict(X_test_vect)\n",
    "print(metrics.classification_report(y_test_aff.map(score_to_label), y_predicted))"
   ]
  },
  {
   "cell_type": "code",
   "execution_count": 232,
   "metadata": {
    "scrolled": true
   },
   "outputs": [
    {
     "name": "stdout",
     "output_type": "stream",
     "text": [
      "             precision    recall  f1-score   support\n",
      "\n",
      "   negative       0.28      0.11      0.15       141\n",
      "    neutral       0.33      0.13      0.19       115\n",
      "   positive       0.49      0.81      0.61       235\n",
      "\n",
      "avg / total       0.39      0.45      0.38       491\n",
      "\n"
     ]
    }
   ],
   "source": [
    "BoW_LogReg = LogisticRegression()\n",
    "BoW_LogReg.fit(X_train_vect, y_train_aff.map(score_to_label))\n",
    "y_predicted = BoW_LogReg.predict(X_test_vect)\n",
    "print(metrics.classification_report(y_test_aff.map(score_to_label), y_predicted))"
   ]
  },
  {
   "cell_type": "markdown",
   "metadata": {},
   "source": [
    "VS Baselines:  \n",
    "```avg / total       0.46      0.26      0.20      1469```"
   ]
  },
  {
   "cell_type": "markdown",
   "metadata": {},
   "source": [
    "Well, seems that test performance is 0.05-0.1 worse that CV one. But they are better than baseline's performance.\n",
    "\n",
    "That's all folks"
   ]
  },
  {
   "cell_type": "code",
   "execution_count": null,
   "metadata": {},
   "outputs": [],
   "source": []
  }
 ],
 "metadata": {
  "kernelspec": {
   "display_name": "Python 3",
   "language": "python",
   "name": "python3"
  },
  "language_info": {
   "codemirror_mode": {
    "name": "ipython",
    "version": 3
   },
   "file_extension": ".py",
   "mimetype": "text/x-python",
   "name": "python",
   "nbconvert_exporter": "python",
   "pygments_lexer": "ipython3",
   "version": "3.6.5"
  }
 },
 "nbformat": 4,
 "nbformat_minor": 2
}
